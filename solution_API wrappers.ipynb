{
 "cells": [
  {
   "cell_type": "code",
   "execution_count": 1,
   "id": "883d1082",
   "metadata": {},
   "outputs": [],
   "source": [
    "import spotipy\n",
    "from spotipy.oauth2 import SpotifyClientCredentials\n",
    "import pandas as pd"
   ]
  },
  {
   "cell_type": "code",
   "execution_count": 2,
   "id": "4f6d492d",
   "metadata": {},
   "outputs": [],
   "source": [
    "secrets_file = open(\"secrets.txt\",\"r\")\n",
    "string = secrets_file.read()\n",
    "string.split('\\n')\n",
    "secrets_dict={}\n",
    "for line in string.split('\\n'):\n",
    "    if len(line) > 0:\n",
    "        secrets_dict[line.split(':')[0]]=line.split(':')[1].strip()"
   ]
  },
  {
   "cell_type": "code",
   "execution_count": 3,
   "id": "ebb948f7",
   "metadata": {},
   "outputs": [],
   "source": [
    "sp = spotipy.Spotify(auth_manager=SpotifyClientCredentials(client_id=secrets_dict['cid'],\n",
    "                                                           client_secret=secrets_dict['csecret']))"
   ]
  },
  {
   "cell_type": "markdown",
   "id": "191f0dc2",
   "metadata": {},
   "source": [
    "## Extract songs from playlist"
   ]
  },
  {
   "cell_type": "code",
   "execution_count": 4,
   "id": "bc52b167",
   "metadata": {},
   "outputs": [],
   "source": [
    "from random import randint\n",
    "from time import sleep\n",
    "\n",
    "def get_playlist_tracks(playlist_id):\n",
    "    results = sp.user_playlist_tracks(\"spotify\",playlist_id)\n",
    "    tracks = results['items']\n",
    "    while results['next']!=None:\n",
    "        results = sp.next(results)\n",
    "        tracks = tracks + results['items']\n",
    "        sleep(randint(1,3))\n",
    "    return tracks"
   ]
  },
  {
   "cell_type": "code",
   "execution_count": 5,
   "id": "4498d83f",
   "metadata": {},
   "outputs": [
    {
     "data": {
      "text/plain": [
       "5186"
      ]
     },
     "execution_count": 5,
     "metadata": {},
     "output_type": "execute_result"
    }
   ],
   "source": [
    "all_tracks = get_playlist_tracks(\"6wLYS8gxCFYqZBMHsz16fV\")\n",
    "len(all_tracks)"
   ]
  },
  {
   "cell_type": "code",
   "execution_count": 6,
   "id": "6423f0f7",
   "metadata": {},
   "outputs": [],
   "source": [
    "#all_tracks"
   ]
  },
  {
   "cell_type": "code",
   "execution_count": 7,
   "id": "84808dca",
   "metadata": {},
   "outputs": [],
   "source": [
    "#all_tracks[1]['track']"
   ]
  },
  {
   "cell_type": "code",
   "execution_count": 8,
   "id": "ec3f30ae",
   "metadata": {},
   "outputs": [],
   "source": [
    "def get_info(track):\n",
    "    return [(track[\"name\"],artist[\"name\"],track[\"uri\"]) for artist in track[\"artists\"]]"
   ]
  },
  {
   "cell_type": "code",
   "execution_count": 9,
   "id": "398de7d6",
   "metadata": {},
   "outputs": [
    {
     "data": {
      "text/plain": [
       "[('Run Away', 'dvsn', 'spotify:track:0xD824qQkuonQNHe2dSeI4')]"
      ]
     },
     "execution_count": 9,
     "metadata": {},
     "output_type": "execute_result"
    }
   ],
   "source": [
    "get_info(all_tracks[0]['track'])"
   ]
  },
  {
   "cell_type": "code",
   "execution_count": 28,
   "id": "c377f6c8",
   "metadata": {},
   "outputs": [],
   "source": [
    "tracksinfo = []\n",
    "num_iter = len(all_tracks)\n",
    "\n",
    "for i in range(num_iter):\n",
    "    tracksinfo.append(get_info(all_tracks[i]['track']))"
   ]
  },
  {
   "cell_type": "code",
   "execution_count": 11,
   "id": "f7436e3c",
   "metadata": {},
   "outputs": [],
   "source": [
    "#print(tracksinfo)"
   ]
  },
  {
   "cell_type": "code",
   "execution_count": 29,
   "id": "a26c5d22",
   "metadata": {},
   "outputs": [],
   "source": [
    "def flatten(input_list):\n",
    "    return [item for sublist in input_list for item in sublist]"
   ]
  },
  {
   "cell_type": "code",
   "execution_count": 30,
   "id": "e4ed650e",
   "metadata": {},
   "outputs": [],
   "source": [
    "tracksinfo = flatten(tracksinfo)"
   ]
  },
  {
   "cell_type": "code",
   "execution_count": 31,
   "id": "07f6f3bd",
   "metadata": {},
   "outputs": [],
   "source": [
    "tracksinfo = pd.DataFrame(tracksinfo, columns = ['song', 'artist', 'uri'])"
   ]
  },
  {
   "cell_type": "code",
   "execution_count": 32,
   "id": "614d6916",
   "metadata": {},
   "outputs": [
    {
     "data": {
      "text/html": [
       "<div>\n",
       "<style scoped>\n",
       "    .dataframe tbody tr th:only-of-type {\n",
       "        vertical-align: middle;\n",
       "    }\n",
       "\n",
       "    .dataframe tbody tr th {\n",
       "        vertical-align: top;\n",
       "    }\n",
       "\n",
       "    .dataframe thead th {\n",
       "        text-align: right;\n",
       "    }\n",
       "</style>\n",
       "<table border=\"1\" class=\"dataframe\">\n",
       "  <thead>\n",
       "    <tr style=\"text-align: right;\">\n",
       "      <th></th>\n",
       "      <th>song</th>\n",
       "      <th>artist</th>\n",
       "      <th>uri</th>\n",
       "    </tr>\n",
       "  </thead>\n",
       "  <tbody>\n",
       "    <tr>\n",
       "      <th>0</th>\n",
       "      <td>Run Away</td>\n",
       "      <td>dvsn</td>\n",
       "      <td>spotify:track:0xD824qQkuonQNHe2dSeI4</td>\n",
       "    </tr>\n",
       "    <tr>\n",
       "      <th>1</th>\n",
       "      <td>L$D</td>\n",
       "      <td>A$AP Rocky</td>\n",
       "      <td>spotify:track:4S7YHmlWwfwArgd8LfSPud</td>\n",
       "    </tr>\n",
       "    <tr>\n",
       "      <th>2</th>\n",
       "      <td>Studio</td>\n",
       "      <td>ScHoolboy Q</td>\n",
       "      <td>spotify:track:29gsi1zZrZxdStACmTQB0Z</td>\n",
       "    </tr>\n",
       "    <tr>\n",
       "      <th>3</th>\n",
       "      <td>Studio</td>\n",
       "      <td>BJ The Chicago Kid</td>\n",
       "      <td>spotify:track:29gsi1zZrZxdStACmTQB0Z</td>\n",
       "    </tr>\n",
       "    <tr>\n",
       "      <th>4</th>\n",
       "      <td>OTW</td>\n",
       "      <td>Khalid</td>\n",
       "      <td>spotify:track:6Hgh47WXVKtXN5zGOu0hjI</td>\n",
       "    </tr>\n",
       "    <tr>\n",
       "      <th>5</th>\n",
       "      <td>OTW</td>\n",
       "      <td>6LACK</td>\n",
       "      <td>spotify:track:6Hgh47WXVKtXN5zGOu0hjI</td>\n",
       "    </tr>\n",
       "    <tr>\n",
       "      <th>6</th>\n",
       "      <td>OTW</td>\n",
       "      <td>Ty Dolla $ign</td>\n",
       "      <td>spotify:track:6Hgh47WXVKtXN5zGOu0hjI</td>\n",
       "    </tr>\n",
       "    <tr>\n",
       "      <th>7</th>\n",
       "      <td>Silence</td>\n",
       "      <td>Marshmello</td>\n",
       "      <td>spotify:track:7vGuf3Y35N4wmASOKLUVVU</td>\n",
       "    </tr>\n",
       "    <tr>\n",
       "      <th>8</th>\n",
       "      <td>Silence</td>\n",
       "      <td>Khalid</td>\n",
       "      <td>spotify:track:7vGuf3Y35N4wmASOKLUVVU</td>\n",
       "    </tr>\n",
       "    <tr>\n",
       "      <th>9</th>\n",
       "      <td>I Fall Apart</td>\n",
       "      <td>Post Malone</td>\n",
       "      <td>spotify:track:2mdxJLJHzFmiiYdTZ8JcyH</td>\n",
       "    </tr>\n",
       "  </tbody>\n",
       "</table>\n",
       "</div>"
      ],
      "text/plain": [
       "           song              artist                                   uri\n",
       "0      Run Away                dvsn  spotify:track:0xD824qQkuonQNHe2dSeI4\n",
       "1           L$D          A$AP Rocky  spotify:track:4S7YHmlWwfwArgd8LfSPud\n",
       "2        Studio         ScHoolboy Q  spotify:track:29gsi1zZrZxdStACmTQB0Z\n",
       "3        Studio  BJ The Chicago Kid  spotify:track:29gsi1zZrZxdStACmTQB0Z\n",
       "4           OTW              Khalid  spotify:track:6Hgh47WXVKtXN5zGOu0hjI\n",
       "5           OTW               6LACK  spotify:track:6Hgh47WXVKtXN5zGOu0hjI\n",
       "6           OTW       Ty Dolla $ign  spotify:track:6Hgh47WXVKtXN5zGOu0hjI\n",
       "7       Silence          Marshmello  spotify:track:7vGuf3Y35N4wmASOKLUVVU\n",
       "8       Silence              Khalid  spotify:track:7vGuf3Y35N4wmASOKLUVVU\n",
       "9  I Fall Apart         Post Malone  spotify:track:2mdxJLJHzFmiiYdTZ8JcyH"
      ]
     },
     "execution_count": 32,
     "metadata": {},
     "output_type": "execute_result"
    }
   ],
   "source": [
    "tracksinfo.head(10)"
   ]
  },
  {
   "cell_type": "code",
   "execution_count": 33,
   "id": "f6bba83b",
   "metadata": {},
   "outputs": [
    {
     "data": {
      "text/plain": [
       "(8136, 3)"
      ]
     },
     "execution_count": 33,
     "metadata": {},
     "output_type": "execute_result"
    }
   ],
   "source": [
    "tracksinfo.shape"
   ]
  },
  {
   "cell_type": "markdown",
   "id": "060302fd",
   "metadata": {},
   "source": [
    "### Drop duplicates"
   ]
  },
  {
   "cell_type": "code",
   "execution_count": 34,
   "id": "27b9f61b",
   "metadata": {},
   "outputs": [
    {
     "data": {
      "text/plain": [
       "(5091, 3)"
      ]
     },
     "execution_count": 34,
     "metadata": {},
     "output_type": "execute_result"
    }
   ],
   "source": [
    "tracksinfo[tracksinfo['uri'].duplicated(keep=False) == True].shape"
   ]
  },
  {
   "cell_type": "code",
   "execution_count": 35,
   "id": "4630edb0",
   "metadata": {},
   "outputs": [
    {
     "data": {
      "text/plain": [
       "(5186, 4)"
      ]
     },
     "execution_count": 35,
     "metadata": {},
     "output_type": "execute_result"
    }
   ],
   "source": [
    "tracksinfo = tracksinfo.drop_duplicates(subset=['uri']).reset_index()\n",
    "tracksinfo.shape"
   ]
  },
  {
   "cell_type": "code",
   "execution_count": 37,
   "id": "05f39520",
   "metadata": {},
   "outputs": [],
   "source": [
    "tracksinfo = tracksinfo.drop(['index'], axis=1)"
   ]
  },
  {
   "cell_type": "markdown",
   "id": "c18a70f2",
   "metadata": {},
   "source": [
    "### Add audio features"
   ]
  },
  {
   "cell_type": "code",
   "execution_count": 43,
   "id": "c6f25f69",
   "metadata": {},
   "outputs": [],
   "source": [
    "playlist = sp.user_playlist_tracks(\"spotify\", \"6wLYS8gxCFYqZBMHsz16fV\")"
   ]
  },
  {
   "cell_type": "code",
   "execution_count": 44,
   "id": "fe36f3bc",
   "metadata": {},
   "outputs": [
    {
     "data": {
      "text/plain": [
       "[{'danceability': 0.764,\n",
       "  'energy': 0.33,\n",
       "  'key': 2,\n",
       "  'loudness': -12.801,\n",
       "  'mode': 0,\n",
       "  'speechiness': 0.0427,\n",
       "  'acousticness': 0.1,\n",
       "  'instrumentalness': 0.506,\n",
       "  'liveness': 0.139,\n",
       "  'valence': 0.0686,\n",
       "  'tempo': 119.978,\n",
       "  'type': 'audio_features',\n",
       "  'id': '0xD824qQkuonQNHe2dSeI4',\n",
       "  'uri': 'spotify:track:0xD824qQkuonQNHe2dSeI4',\n",
       "  'track_href': 'https://api.spotify.com/v1/tracks/0xD824qQkuonQNHe2dSeI4',\n",
       "  'analysis_url': 'https://api.spotify.com/v1/audio-analysis/0xD824qQkuonQNHe2dSeI4',\n",
       "  'duration_ms': 140293,\n",
       "  'time_signature': 4}]"
      ]
     },
     "execution_count": 44,
     "metadata": {},
     "output_type": "execute_result"
    }
   ],
   "source": [
    "sp.audio_features(tracksinfo['uri'][0])"
   ]
  },
  {
   "cell_type": "code",
   "execution_count": 45,
   "id": "ce3e7172",
   "metadata": {},
   "outputs": [
    {
     "data": {
      "text/plain": [
       "0    spotify:track:0xD824qQkuonQNHe2dSeI4\n",
       "1    spotify:track:4S7YHmlWwfwArgd8LfSPud\n",
       "2    spotify:track:29gsi1zZrZxdStACmTQB0Z\n",
       "3    spotify:track:6Hgh47WXVKtXN5zGOu0hjI\n",
       "4    spotify:track:7vGuf3Y35N4wmASOKLUVVU\n",
       "Name: uri, dtype: object"
      ]
     },
     "execution_count": 45,
     "metadata": {},
     "output_type": "execute_result"
    }
   ],
   "source": [
    "tracksinfo['uri'].head()"
   ]
  },
  {
   "cell_type": "code",
   "execution_count": 46,
   "id": "7b269c12",
   "metadata": {},
   "outputs": [],
   "source": [
    "features = []\n",
    "\n",
    "for i in range(len(tracksinfo['uri'])):\n",
    "    features.append(sp.audio_features(tracksinfo['uri'][i]))\n",
    "    sleep(randint(1,3))"
   ]
  },
  {
   "cell_type": "code",
   "execution_count": 62,
   "id": "e3c2d30d",
   "metadata": {},
   "outputs": [],
   "source": [
    "#features"
   ]
  },
  {
   "cell_type": "code",
   "execution_count": 50,
   "id": "2c93ac32",
   "metadata": {},
   "outputs": [],
   "source": [
    "audio_feat = pd.DataFrame(features, columns = ['features'])"
   ]
  },
  {
   "cell_type": "code",
   "execution_count": 56,
   "id": "44fb3a16",
   "metadata": {},
   "outputs": [],
   "source": [
    "#audio_feat"
   ]
  },
  {
   "cell_type": "code",
   "execution_count": 57,
   "id": "b6e888f2",
   "metadata": {},
   "outputs": [],
   "source": [
    "#tracksinfo"
   ]
  },
  {
   "cell_type": "code",
   "execution_count": 53,
   "id": "9e9c0453",
   "metadata": {},
   "outputs": [],
   "source": [
    "tracks = pd.concat([tracksinfo, audio_feat], axis=1)"
   ]
  },
  {
   "cell_type": "code",
   "execution_count": 55,
   "id": "117dc0e1",
   "metadata": {},
   "outputs": [
    {
     "data": {
      "text/html": [
       "<div>\n",
       "<style scoped>\n",
       "    .dataframe tbody tr th:only-of-type {\n",
       "        vertical-align: middle;\n",
       "    }\n",
       "\n",
       "    .dataframe tbody tr th {\n",
       "        vertical-align: top;\n",
       "    }\n",
       "\n",
       "    .dataframe thead th {\n",
       "        text-align: right;\n",
       "    }\n",
       "</style>\n",
       "<table border=\"1\" class=\"dataframe\">\n",
       "  <thead>\n",
       "    <tr style=\"text-align: right;\">\n",
       "      <th></th>\n",
       "      <th>song</th>\n",
       "      <th>artist</th>\n",
       "      <th>uri</th>\n",
       "      <th>features</th>\n",
       "    </tr>\n",
       "  </thead>\n",
       "  <tbody>\n",
       "    <tr>\n",
       "      <th>0</th>\n",
       "      <td>Run Away</td>\n",
       "      <td>dvsn</td>\n",
       "      <td>spotify:track:0xD824qQkuonQNHe2dSeI4</td>\n",
       "      <td>{'danceability': 0.764, 'energy': 0.33, 'key':...</td>\n",
       "    </tr>\n",
       "    <tr>\n",
       "      <th>1</th>\n",
       "      <td>L$D</td>\n",
       "      <td>A$AP Rocky</td>\n",
       "      <td>spotify:track:4S7YHmlWwfwArgd8LfSPud</td>\n",
       "      <td>{'danceability': 0.598, 'energy': 0.252, 'key'...</td>\n",
       "    </tr>\n",
       "    <tr>\n",
       "      <th>2</th>\n",
       "      <td>Studio</td>\n",
       "      <td>ScHoolboy Q</td>\n",
       "      <td>spotify:track:29gsi1zZrZxdStACmTQB0Z</td>\n",
       "      <td>{'danceability': 0.709, 'energy': 0.589, 'key'...</td>\n",
       "    </tr>\n",
       "    <tr>\n",
       "      <th>3</th>\n",
       "      <td>OTW</td>\n",
       "      <td>Khalid</td>\n",
       "      <td>spotify:track:6Hgh47WXVKtXN5zGOu0hjI</td>\n",
       "      <td>{'danceability': 0.652, 'energy': 0.678, 'key'...</td>\n",
       "    </tr>\n",
       "    <tr>\n",
       "      <th>4</th>\n",
       "      <td>Silence</td>\n",
       "      <td>Marshmello</td>\n",
       "      <td>spotify:track:7vGuf3Y35N4wmASOKLUVVU</td>\n",
       "      <td>{'danceability': 0.52, 'energy': 0.761, 'key':...</td>\n",
       "    </tr>\n",
       "  </tbody>\n",
       "</table>\n",
       "</div>"
      ],
      "text/plain": [
       "       song       artist                                   uri  \\\n",
       "0  Run Away         dvsn  spotify:track:0xD824qQkuonQNHe2dSeI4   \n",
       "1       L$D   A$AP Rocky  spotify:track:4S7YHmlWwfwArgd8LfSPud   \n",
       "2    Studio  ScHoolboy Q  spotify:track:29gsi1zZrZxdStACmTQB0Z   \n",
       "3       OTW       Khalid  spotify:track:6Hgh47WXVKtXN5zGOu0hjI   \n",
       "4   Silence   Marshmello  spotify:track:7vGuf3Y35N4wmASOKLUVVU   \n",
       "\n",
       "                                            features  \n",
       "0  {'danceability': 0.764, 'energy': 0.33, 'key':...  \n",
       "1  {'danceability': 0.598, 'energy': 0.252, 'key'...  \n",
       "2  {'danceability': 0.709, 'energy': 0.589, 'key'...  \n",
       "3  {'danceability': 0.652, 'energy': 0.678, 'key'...  \n",
       "4  {'danceability': 0.52, 'energy': 0.761, 'key':...  "
      ]
     },
     "execution_count": 55,
     "metadata": {},
     "output_type": "execute_result"
    }
   ],
   "source": [
    "tracks.head()"
   ]
  },
  {
   "cell_type": "code",
   "execution_count": 59,
   "id": "95c0a745",
   "metadata": {},
   "outputs": [
    {
     "data": {
      "text/plain": [
       "(5186, 4)"
      ]
     },
     "execution_count": 59,
     "metadata": {},
     "output_type": "execute_result"
    }
   ],
   "source": [
    "tracks.shape"
   ]
  },
  {
   "cell_type": "code",
   "execution_count": 61,
   "id": "f9d2fb9f",
   "metadata": {},
   "outputs": [
    {
     "data": {
      "text/html": [
       "<div>\n",
       "<style scoped>\n",
       "    .dataframe tbody tr th:only-of-type {\n",
       "        vertical-align: middle;\n",
       "    }\n",
       "\n",
       "    .dataframe tbody tr th {\n",
       "        vertical-align: top;\n",
       "    }\n",
       "\n",
       "    .dataframe thead th {\n",
       "        text-align: right;\n",
       "    }\n",
       "</style>\n",
       "<table border=\"1\" class=\"dataframe\">\n",
       "  <thead>\n",
       "    <tr style=\"text-align: right;\">\n",
       "      <th></th>\n",
       "      <th>song</th>\n",
       "      <th>artist</th>\n",
       "      <th>uri</th>\n",
       "      <th>features</th>\n",
       "    </tr>\n",
       "  </thead>\n",
       "  <tbody>\n",
       "    <tr>\n",
       "      <th>0</th>\n",
       "      <td>Run Away</td>\n",
       "      <td>dvsn</td>\n",
       "      <td>spotify:track:0xD824qQkuonQNHe2dSeI4</td>\n",
       "      <td>{'danceability': 0.764, 'energy': 0.33, 'key':...</td>\n",
       "    </tr>\n",
       "    <tr>\n",
       "      <th>1</th>\n",
       "      <td>L$D</td>\n",
       "      <td>A$AP Rocky</td>\n",
       "      <td>spotify:track:4S7YHmlWwfwArgd8LfSPud</td>\n",
       "      <td>{'danceability': 0.598, 'energy': 0.252, 'key'...</td>\n",
       "    </tr>\n",
       "    <tr>\n",
       "      <th>2</th>\n",
       "      <td>Studio</td>\n",
       "      <td>ScHoolboy Q</td>\n",
       "      <td>spotify:track:29gsi1zZrZxdStACmTQB0Z</td>\n",
       "      <td>{'danceability': 0.709, 'energy': 0.589, 'key'...</td>\n",
       "    </tr>\n",
       "    <tr>\n",
       "      <th>3</th>\n",
       "      <td>OTW</td>\n",
       "      <td>Khalid</td>\n",
       "      <td>spotify:track:6Hgh47WXVKtXN5zGOu0hjI</td>\n",
       "      <td>{'danceability': 0.652, 'energy': 0.678, 'key'...</td>\n",
       "    </tr>\n",
       "    <tr>\n",
       "      <th>4</th>\n",
       "      <td>Silence</td>\n",
       "      <td>Marshmello</td>\n",
       "      <td>spotify:track:7vGuf3Y35N4wmASOKLUVVU</td>\n",
       "      <td>{'danceability': 0.52, 'energy': 0.761, 'key':...</td>\n",
       "    </tr>\n",
       "    <tr>\n",
       "      <th>...</th>\n",
       "      <td>...</td>\n",
       "      <td>...</td>\n",
       "      <td>...</td>\n",
       "      <td>...</td>\n",
       "    </tr>\n",
       "    <tr>\n",
       "      <th>5181</th>\n",
       "      <td>Talk</td>\n",
       "      <td>6LACK</td>\n",
       "      <td>spotify:track:5WLkwRe2pFxItoPNBSa40R</td>\n",
       "      <td>{'danceability': 0.829, 'energy': 0.493, 'key'...</td>\n",
       "    </tr>\n",
       "    <tr>\n",
       "      <th>5182</th>\n",
       "      <td>Us Against the World</td>\n",
       "      <td>Strandz</td>\n",
       "      <td>spotify:track:4TaS4giQQK01vKzBB40AEY</td>\n",
       "      <td>{'danceability': 0.762, 'energy': 0.647, 'key'...</td>\n",
       "    </tr>\n",
       "    <tr>\n",
       "      <th>5183</th>\n",
       "      <td>BESO</td>\n",
       "      <td>ROSALÍA</td>\n",
       "      <td>spotify:track:609E1JCInJncactoMmkDon</td>\n",
       "      <td>{'danceability': 0.768, 'energy': 0.644, 'key'...</td>\n",
       "    </tr>\n",
       "    <tr>\n",
       "      <th>5184</th>\n",
       "      <td>Rollercoaster (feat. J Balvin)</td>\n",
       "      <td>Burna Boy</td>\n",
       "      <td>spotify:track:4pX4VTKooLaSRLkESPyR8N</td>\n",
       "      <td>{'danceability': 0.774, 'energy': 0.687, 'key'...</td>\n",
       "    </tr>\n",
       "    <tr>\n",
       "      <th>5185</th>\n",
       "      <td>Bend It Over</td>\n",
       "      <td>Popcaan</td>\n",
       "      <td>spotify:track:4kx5UasR27nS6Bw6huHhj1</td>\n",
       "      <td>{'danceability': 0.701, 'energy': 0.826, 'key'...</td>\n",
       "    </tr>\n",
       "  </tbody>\n",
       "</table>\n",
       "<p>5186 rows × 4 columns</p>\n",
       "</div>"
      ],
      "text/plain": [
       "                                song       artist  \\\n",
       "0                           Run Away         dvsn   \n",
       "1                                L$D   A$AP Rocky   \n",
       "2                             Studio  ScHoolboy Q   \n",
       "3                                OTW       Khalid   \n",
       "4                            Silence   Marshmello   \n",
       "...                              ...          ...   \n",
       "5181                            Talk        6LACK   \n",
       "5182            Us Against the World      Strandz   \n",
       "5183                            BESO      ROSALÍA   \n",
       "5184  Rollercoaster (feat. J Balvin)    Burna Boy   \n",
       "5185                    Bend It Over      Popcaan   \n",
       "\n",
       "                                       uri  \\\n",
       "0     spotify:track:0xD824qQkuonQNHe2dSeI4   \n",
       "1     spotify:track:4S7YHmlWwfwArgd8LfSPud   \n",
       "2     spotify:track:29gsi1zZrZxdStACmTQB0Z   \n",
       "3     spotify:track:6Hgh47WXVKtXN5zGOu0hjI   \n",
       "4     spotify:track:7vGuf3Y35N4wmASOKLUVVU   \n",
       "...                                    ...   \n",
       "5181  spotify:track:5WLkwRe2pFxItoPNBSa40R   \n",
       "5182  spotify:track:4TaS4giQQK01vKzBB40AEY   \n",
       "5183  spotify:track:609E1JCInJncactoMmkDon   \n",
       "5184  spotify:track:4pX4VTKooLaSRLkESPyR8N   \n",
       "5185  spotify:track:4kx5UasR27nS6Bw6huHhj1   \n",
       "\n",
       "                                               features  \n",
       "0     {'danceability': 0.764, 'energy': 0.33, 'key':...  \n",
       "1     {'danceability': 0.598, 'energy': 0.252, 'key'...  \n",
       "2     {'danceability': 0.709, 'energy': 0.589, 'key'...  \n",
       "3     {'danceability': 0.652, 'energy': 0.678, 'key'...  \n",
       "4     {'danceability': 0.52, 'energy': 0.761, 'key':...  \n",
       "...                                                 ...  \n",
       "5181  {'danceability': 0.829, 'energy': 0.493, 'key'...  \n",
       "5182  {'danceability': 0.762, 'energy': 0.647, 'key'...  \n",
       "5183  {'danceability': 0.768, 'energy': 0.644, 'key'...  \n",
       "5184  {'danceability': 0.774, 'energy': 0.687, 'key'...  \n",
       "5185  {'danceability': 0.701, 'energy': 0.826, 'key'...  \n",
       "\n",
       "[5186 rows x 4 columns]"
      ]
     },
     "execution_count": 61,
     "metadata": {},
     "output_type": "execute_result"
    }
   ],
   "source": [
    "tracks"
   ]
  },
  {
   "cell_type": "code",
   "execution_count": 65,
   "id": "2242d987",
   "metadata": {},
   "outputs": [],
   "source": [
    "def flattendf(data, col_list):\n",
    "    for column in col_list:\n",
    "        flattened = pd.DataFrame(dict(data[column])).transpose()\n",
    "        columns = [str(col) for col in flattened.columns]\n",
    "        flattened.columns = [column + '_' + colname for colname in columns]\n",
    "        data = pd.concat([data, flattened], axis=1)\n",
    "        data = data.drop(column, axis=1)\n",
    "    return data"
   ]
  },
  {
   "cell_type": "code",
   "execution_count": 71,
   "id": "06f5c978",
   "metadata": {},
   "outputs": [
    {
     "data": {
      "text/html": [
       "<div>\n",
       "<style scoped>\n",
       "    .dataframe tbody tr th:only-of-type {\n",
       "        vertical-align: middle;\n",
       "    }\n",
       "\n",
       "    .dataframe tbody tr th {\n",
       "        vertical-align: top;\n",
       "    }\n",
       "\n",
       "    .dataframe thead th {\n",
       "        text-align: right;\n",
       "    }\n",
       "</style>\n",
       "<table border=\"1\" class=\"dataframe\">\n",
       "  <thead>\n",
       "    <tr style=\"text-align: right;\">\n",
       "      <th></th>\n",
       "      <th>song</th>\n",
       "      <th>artist</th>\n",
       "      <th>uri</th>\n",
       "      <th>features_danceability</th>\n",
       "      <th>features_energy</th>\n",
       "      <th>features_key</th>\n",
       "      <th>features_loudness</th>\n",
       "      <th>features_mode</th>\n",
       "      <th>features_speechiness</th>\n",
       "      <th>features_acousticness</th>\n",
       "      <th>features_instrumentalness</th>\n",
       "      <th>features_liveness</th>\n",
       "      <th>features_valence</th>\n",
       "      <th>features_tempo</th>\n",
       "      <th>features_type</th>\n",
       "      <th>features_id</th>\n",
       "      <th>features_uri</th>\n",
       "      <th>features_track_href</th>\n",
       "      <th>features_analysis_url</th>\n",
       "      <th>features_duration_ms</th>\n",
       "      <th>features_time_signature</th>\n",
       "    </tr>\n",
       "  </thead>\n",
       "  <tbody>\n",
       "    <tr>\n",
       "      <th>0</th>\n",
       "      <td>Run Away</td>\n",
       "      <td>dvsn</td>\n",
       "      <td>spotify:track:0xD824qQkuonQNHe2dSeI4</td>\n",
       "      <td>0.764</td>\n",
       "      <td>0.33</td>\n",
       "      <td>2</td>\n",
       "      <td>-12.801</td>\n",
       "      <td>0</td>\n",
       "      <td>0.0427</td>\n",
       "      <td>0.1</td>\n",
       "      <td>0.506</td>\n",
       "      <td>0.139</td>\n",
       "      <td>0.0686</td>\n",
       "      <td>119.978</td>\n",
       "      <td>audio_features</td>\n",
       "      <td>0xD824qQkuonQNHe2dSeI4</td>\n",
       "      <td>spotify:track:0xD824qQkuonQNHe2dSeI4</td>\n",
       "      <td>https://api.spotify.com/v1/tracks/0xD824qQkuon...</td>\n",
       "      <td>https://api.spotify.com/v1/audio-analysis/0xD8...</td>\n",
       "      <td>140293</td>\n",
       "      <td>4</td>\n",
       "    </tr>\n",
       "    <tr>\n",
       "      <th>1</th>\n",
       "      <td>L$D</td>\n",
       "      <td>A$AP Rocky</td>\n",
       "      <td>spotify:track:4S7YHmlWwfwArgd8LfSPud</td>\n",
       "      <td>0.598</td>\n",
       "      <td>0.252</td>\n",
       "      <td>2</td>\n",
       "      <td>-15.086</td>\n",
       "      <td>1</td>\n",
       "      <td>0.0644</td>\n",
       "      <td>0.194</td>\n",
       "      <td>0.133</td>\n",
       "      <td>0.0992</td>\n",
       "      <td>0.0352</td>\n",
       "      <td>120.064</td>\n",
       "      <td>audio_features</td>\n",
       "      <td>4S7YHmlWwfwArgd8LfSPud</td>\n",
       "      <td>spotify:track:4S7YHmlWwfwArgd8LfSPud</td>\n",
       "      <td>https://api.spotify.com/v1/tracks/4S7YHmlWwfwA...</td>\n",
       "      <td>https://api.spotify.com/v1/audio-analysis/4S7Y...</td>\n",
       "      <td>238307</td>\n",
       "      <td>4</td>\n",
       "    </tr>\n",
       "    <tr>\n",
       "      <th>2</th>\n",
       "      <td>Studio</td>\n",
       "      <td>ScHoolboy Q</td>\n",
       "      <td>spotify:track:29gsi1zZrZxdStACmTQB0Z</td>\n",
       "      <td>0.709</td>\n",
       "      <td>0.589</td>\n",
       "      <td>8</td>\n",
       "      <td>-7.776</td>\n",
       "      <td>0</td>\n",
       "      <td>0.0433</td>\n",
       "      <td>0.0507</td>\n",
       "      <td>0</td>\n",
       "      <td>0.0585</td>\n",
       "      <td>0.58</td>\n",
       "      <td>133.922</td>\n",
       "      <td>audio_features</td>\n",
       "      <td>29gsi1zZrZxdStACmTQB0Z</td>\n",
       "      <td>spotify:track:29gsi1zZrZxdStACmTQB0Z</td>\n",
       "      <td>https://api.spotify.com/v1/tracks/29gsi1zZrZxd...</td>\n",
       "      <td>https://api.spotify.com/v1/audio-analysis/29gs...</td>\n",
       "      <td>278067</td>\n",
       "      <td>3</td>\n",
       "    </tr>\n",
       "    <tr>\n",
       "      <th>3</th>\n",
       "      <td>OTW</td>\n",
       "      <td>Khalid</td>\n",
       "      <td>spotify:track:6Hgh47WXVKtXN5zGOu0hjI</td>\n",
       "      <td>0.652</td>\n",
       "      <td>0.678</td>\n",
       "      <td>2</td>\n",
       "      <td>-6.183</td>\n",
       "      <td>1</td>\n",
       "      <td>0.0541</td>\n",
       "      <td>0.183</td>\n",
       "      <td>0.000033</td>\n",
       "      <td>0.106</td>\n",
       "      <td>0.28</td>\n",
       "      <td>72.989</td>\n",
       "      <td>audio_features</td>\n",
       "      <td>6Hgh47WXVKtXN5zGOu0hjI</td>\n",
       "      <td>spotify:track:6Hgh47WXVKtXN5zGOu0hjI</td>\n",
       "      <td>https://api.spotify.com/v1/tracks/6Hgh47WXVKtX...</td>\n",
       "      <td>https://api.spotify.com/v1/audio-analysis/6Hgh...</td>\n",
       "      <td>263014</td>\n",
       "      <td>4</td>\n",
       "    </tr>\n",
       "    <tr>\n",
       "      <th>4</th>\n",
       "      <td>Silence</td>\n",
       "      <td>Marshmello</td>\n",
       "      <td>spotify:track:7vGuf3Y35N4wmASOKLUVVU</td>\n",
       "      <td>0.52</td>\n",
       "      <td>0.761</td>\n",
       "      <td>4</td>\n",
       "      <td>-3.093</td>\n",
       "      <td>1</td>\n",
       "      <td>0.0853</td>\n",
       "      <td>0.256</td>\n",
       "      <td>0.000005</td>\n",
       "      <td>0.17</td>\n",
       "      <td>0.286</td>\n",
       "      <td>141.971</td>\n",
       "      <td>audio_features</td>\n",
       "      <td>7vGuf3Y35N4wmASOKLUVVU</td>\n",
       "      <td>spotify:track:7vGuf3Y35N4wmASOKLUVVU</td>\n",
       "      <td>https://api.spotify.com/v1/tracks/7vGuf3Y35N4w...</td>\n",
       "      <td>https://api.spotify.com/v1/audio-analysis/7vGu...</td>\n",
       "      <td>180823</td>\n",
       "      <td>4</td>\n",
       "    </tr>\n",
       "  </tbody>\n",
       "</table>\n",
       "</div>"
      ],
      "text/plain": [
       "       song       artist  ... features_duration_ms features_time_signature\n",
       "0  Run Away         dvsn  ...               140293                       4\n",
       "1       L$D   A$AP Rocky  ...               238307                       4\n",
       "2    Studio  ScHoolboy Q  ...               278067                       3\n",
       "3       OTW       Khalid  ...               263014                       4\n",
       "4   Silence   Marshmello  ...               180823                       4\n",
       "\n",
       "[5 rows x 21 columns]"
      ]
     },
     "execution_count": 71,
     "metadata": {},
     "output_type": "execute_result"
    }
   ],
   "source": [
    "pd.set_option('display.max_columns', 0)\n",
    "columns = ['features']\n",
    "\n",
    "tracks = flattendf(tracks, columns)\n",
    "tracks.head(5)"
   ]
  },
  {
   "cell_type": "code",
   "execution_count": 72,
   "id": "70114403",
   "metadata": {},
   "outputs": [
    {
     "data": {
      "text/plain": [
       "True"
      ]
     },
     "execution_count": 72,
     "metadata": {},
     "output_type": "execute_result"
    }
   ],
   "source": [
    "list(tracks['uri']) == list(tracks['features_uri'])"
   ]
  },
  {
   "cell_type": "code",
   "execution_count": null,
   "id": "867518b1",
   "metadata": {},
   "outputs": [],
   "source": []
  }
 ],
 "metadata": {
  "kernelspec": {
   "display_name": "Python 3 (ipykernel)",
   "language": "python",
   "name": "python3"
  },
  "language_info": {
   "codemirror_mode": {
    "name": "ipython",
    "version": 3
   },
   "file_extension": ".py",
   "mimetype": "text/x-python",
   "name": "python",
   "nbconvert_exporter": "python",
   "pygments_lexer": "ipython3",
   "version": "3.9.13"
  }
 },
 "nbformat": 4,
 "nbformat_minor": 5
}
