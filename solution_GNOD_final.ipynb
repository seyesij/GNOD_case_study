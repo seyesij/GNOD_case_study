{
 "cells": [
  {
   "cell_type": "markdown",
   "id": "add83a78",
   "metadata": {},
   "source": [
    "## Import libraries"
   ]
  },
  {
   "cell_type": "code",
   "execution_count": 1,
   "id": "84c10166",
   "metadata": {},
   "outputs": [],
   "source": [
    "import requests\n",
    "import pandas as pd \n",
    "import numpy as np\n",
    "from bs4 import BeautifulSoup\n",
    "import matplotlib.pyplot as plt\n",
    "from matplotlib.lines import Line2D\n",
    "from sklearn import cluster, datasets\n",
    "from sklearn.preprocessing import StandardScaler\n",
    "import spotipy\n",
    "from spotipy.oauth2 import SpotifyClientCredentials\n",
    "pd.set_option('display.max_columns', 0)\n",
    "import random"
   ]
  },
  {
   "cell_type": "code",
   "execution_count": 2,
   "id": "2664d0b0",
   "metadata": {},
   "outputs": [],
   "source": [
    "secrets_file = open(\"secrets.txt\",\"r\")\n",
    "string = secrets_file.read()\n",
    "string.split('\\n')\n",
    "secrets_dict={}\n",
    "for line in string.split('\\n'):\n",
    "    if len(line) > 0:\n",
    "        secrets_dict[line.split(':')[0]]=line.split(':')[1].strip()\n",
    "\n",
    "sp = spotipy.Spotify(auth_manager=SpotifyClientCredentials(client_id=secrets_dict['cid'],\n",
    "                                                           client_secret=secrets_dict['csecret']))"
   ]
  },
  {
   "cell_type": "markdown",
   "id": "d2a4b85f",
   "metadata": {},
   "source": [
    "## Scrape top100 hits from Popvortex"
   ]
  },
  {
   "cell_type": "code",
   "execution_count": 80,
   "id": "9c893803",
   "metadata": {},
   "outputs": [],
   "source": [
    "url = \"https://www.popvortex.com/music/charts/top-100-songs.php\"\n",
    "\n",
    "#download html with a get request\n",
    "response = requests.get(url)\n",
    "response.status_code\n",
    "\n",
    "#parse html (create the 'soup')\n",
    "soup = BeautifulSoup(response.content, \"html.parser\")"
   ]
  },
  {
   "cell_type": "code",
   "execution_count": 81,
   "id": "da036f48",
   "metadata": {},
   "outputs": [
    {
     "data": {
      "text/plain": [
       "[<p class=\"title-artist\"><cite class=\"title\">FLOWER</cite><em class=\"artist\">JISOO</em></p>]"
      ]
     },
     "execution_count": 81,
     "metadata": {},
     "output_type": "execute_result"
    }
   ],
   "source": [
    "soup.select(\"#chart-position-1 > div.chart-content.col-xs-12.col-sm-8 > p\")"
   ]
  },
  {
   "cell_type": "code",
   "execution_count": 82,
   "id": "e400fad8",
   "metadata": {},
   "outputs": [
    {
     "data": {
      "text/plain": [
       "'FLOWER'"
      ]
     },
     "execution_count": 82,
     "metadata": {},
     "output_type": "execute_result"
    }
   ],
   "source": [
    "soup.select(\"div.chart-content.col-xs-12.col-sm-8 > p > cite\")[0].get_text()"
   ]
  },
  {
   "cell_type": "code",
   "execution_count": 83,
   "id": "33b575b5",
   "metadata": {},
   "outputs": [
    {
     "data": {
      "text/plain": [
       "'JISOO'"
      ]
     },
     "execution_count": 83,
     "metadata": {},
     "output_type": "execute_result"
    }
   ],
   "source": [
    "soup.select(\"div.chart-content.col-xs-12.col-sm-8 > p > em\")[0].get_text()"
   ]
  },
  {
   "cell_type": "code",
   "execution_count": 84,
   "id": "fd0cf233",
   "metadata": {},
   "outputs": [],
   "source": [
    "title = []\n",
    "artist = []\n",
    "\n",
    "num_iter = len(soup.select(\"div.chart-content.col-xs-12.col-sm-8 > p > cite\"))\n",
    "tlist = soup.select(\"div.chart-content.col-xs-12.col-sm-8 > p > cite\")\n",
    "alist = soup.select(\"div.chart-content.col-xs-12.col-sm-8 > p > em\")\n",
    "\n",
    "# iterate through the result set and retrive all the data\n",
    "for i in range(num_iter):\n",
    "    title.append(tlist[i].get_text())\n",
    "    artist.append(alist[i].get_text())"
   ]
  },
  {
   "cell_type": "code",
   "execution_count": 85,
   "id": "9fa65661",
   "metadata": {},
   "outputs": [],
   "source": [
    "top100 = pd.DataFrame({\"title\":title, \"artist\":artist})"
   ]
  },
  {
   "cell_type": "code",
   "execution_count": 86,
   "id": "179df350",
   "metadata": {},
   "outputs": [
    {
     "data": {
      "text/html": [
       "<div>\n",
       "<style scoped>\n",
       "    .dataframe tbody tr th:only-of-type {\n",
       "        vertical-align: middle;\n",
       "    }\n",
       "\n",
       "    .dataframe tbody tr th {\n",
       "        vertical-align: top;\n",
       "    }\n",
       "\n",
       "    .dataframe thead th {\n",
       "        text-align: right;\n",
       "    }\n",
       "</style>\n",
       "<table border=\"1\" class=\"dataframe\">\n",
       "  <thead>\n",
       "    <tr style=\"text-align: right;\">\n",
       "      <th></th>\n",
       "      <th>title</th>\n",
       "      <th>artist</th>\n",
       "    </tr>\n",
       "  </thead>\n",
       "  <tbody>\n",
       "    <tr>\n",
       "      <th>0</th>\n",
       "      <td>FLOWER</td>\n",
       "      <td>JISOO</td>\n",
       "    </tr>\n",
       "    <tr>\n",
       "      <th>1</th>\n",
       "      <td>Last Night</td>\n",
       "      <td>Morgan Wallen</td>\n",
       "    </tr>\n",
       "    <tr>\n",
       "      <th>2</th>\n",
       "      <td>Flowers</td>\n",
       "      <td>Miley Cyrus</td>\n",
       "    </tr>\n",
       "    <tr>\n",
       "      <th>3</th>\n",
       "      <td>Fast Car</td>\n",
       "      <td>Luke Combs</td>\n",
       "    </tr>\n",
       "    <tr>\n",
       "      <th>4</th>\n",
       "      <td>Thank God I Do</td>\n",
       "      <td>Lauren Daigle</td>\n",
       "    </tr>\n",
       "  </tbody>\n",
       "</table>\n",
       "</div>"
      ],
      "text/plain": [
       "            title         artist\n",
       "0          FLOWER          JISOO\n",
       "1      Last Night  Morgan Wallen\n",
       "2         Flowers    Miley Cyrus\n",
       "3        Fast Car     Luke Combs\n",
       "4  Thank God I Do  Lauren Daigle"
      ]
     },
     "execution_count": 86,
     "metadata": {},
     "output_type": "execute_result"
    }
   ],
   "source": [
    "top100.head()"
   ]
  },
  {
   "cell_type": "markdown",
   "id": "c86d292c",
   "metadata": {},
   "source": [
    "##  PopVortex Song Recommender"
   ]
  },
  {
   "cell_type": "code",
   "execution_count": 87,
   "id": "ba16ac15",
   "metadata": {},
   "outputs": [],
   "source": [
    "def popsongrecommender():\n",
    "    song = input(\"Enter song name: \")\n",
    "    artist = input(\"Enter artist name: \")\n",
    "    \n",
    "    for i in range(len(top100.values)):\n",
    "        if (song in top100.values[i][0]) & (artist in top100.values[i][1]):\n",
    "            recommendation = top100[(top100['title'] != song) & (top100['artist'] != artist)].iloc[random.randint(0,99)]\n",
    "            return \"We recommend: \" + recommendation.title + \" by \" + recommendation.artist \n",
    "        \n",
    "    for i in range(len(top100.values)): \n",
    "        if (song not in top100.values[i][0]) & (artist not in top100.values[i][1]):\n",
    "            return \"Sorry, no recommendations available\""
   ]
  },
  {
   "cell_type": "code",
   "execution_count": 89,
   "id": "249b6f3e",
   "metadata": {},
   "outputs": [
    {
     "name": "stdout",
     "output_type": "stream",
     "text": [
      "Enter song name: Flowers\n",
      "Enter artist name: Miley Cyrus\n"
     ]
    },
    {
     "data": {
      "text/plain": [
       "\"We recommend: I Ain't Worried by OneRepublic\""
      ]
     },
     "execution_count": 89,
     "metadata": {},
     "output_type": "execute_result"
    }
   ],
   "source": [
    "popsongrecommender()"
   ]
  },
  {
   "cell_type": "markdown",
   "id": "79edcfe4",
   "metadata": {},
   "source": [
    "## Add spotify songs"
   ]
  },
  {
   "cell_type": "code",
   "execution_count": 16,
   "id": "495bc271",
   "metadata": {},
   "outputs": [],
   "source": [
    "spot_df = pd.read_csv(\"spotifytracks.csv\")"
   ]
  },
  {
   "cell_type": "code",
   "execution_count": 17,
   "id": "e3cf48c0",
   "metadata": {},
   "outputs": [],
   "source": [
    "#drop duplicate column\n",
    "spot_df = spot_df.drop(['features_uri', 'uri', 'features_type', 'features_track_href', 'features_analysis_url'], axis=1)  "
   ]
  },
  {
   "cell_type": "code",
   "execution_count": 18,
   "id": "318af736",
   "metadata": {},
   "outputs": [],
   "source": [
    "#rename columns\n",
    "spot_df.columns = spot_df.columns.str.replace(r\"features_\", \"\")"
   ]
  },
  {
   "cell_type": "code",
   "execution_count": 19,
   "id": "63ed07a2",
   "metadata": {},
   "outputs": [],
   "source": [
    "spot_df['valence'] = spot_df['valence'].round(decimals=3)"
   ]
  },
  {
   "cell_type": "code",
   "execution_count": 20,
   "id": "aa5bb956",
   "metadata": {},
   "outputs": [
    {
     "data": {
      "text/html": [
       "<div>\n",
       "<style scoped>\n",
       "    .dataframe tbody tr th:only-of-type {\n",
       "        vertical-align: middle;\n",
       "    }\n",
       "\n",
       "    .dataframe tbody tr th {\n",
       "        vertical-align: top;\n",
       "    }\n",
       "\n",
       "    .dataframe thead th {\n",
       "        text-align: right;\n",
       "    }\n",
       "</style>\n",
       "<table border=\"1\" class=\"dataframe\">\n",
       "  <thead>\n",
       "    <tr style=\"text-align: right;\">\n",
       "      <th></th>\n",
       "      <th>song</th>\n",
       "      <th>artist</th>\n",
       "      <th>danceability</th>\n",
       "      <th>energy</th>\n",
       "      <th>key</th>\n",
       "      <th>loudness</th>\n",
       "      <th>mode</th>\n",
       "      <th>speechiness</th>\n",
       "      <th>acousticness</th>\n",
       "      <th>instrumentalness</th>\n",
       "      <th>liveness</th>\n",
       "      <th>valence</th>\n",
       "      <th>tempo</th>\n",
       "      <th>id</th>\n",
       "      <th>duration_ms</th>\n",
       "      <th>time_signature</th>\n",
       "    </tr>\n",
       "  </thead>\n",
       "  <tbody>\n",
       "    <tr>\n",
       "      <th>0</th>\n",
       "      <td>Run Away</td>\n",
       "      <td>dvsn</td>\n",
       "      <td>0.764</td>\n",
       "      <td>0.330</td>\n",
       "      <td>2</td>\n",
       "      <td>-12.801</td>\n",
       "      <td>0</td>\n",
       "      <td>0.0427</td>\n",
       "      <td>0.1000</td>\n",
       "      <td>0.506000</td>\n",
       "      <td>0.1390</td>\n",
       "      <td>0.069</td>\n",
       "      <td>119.978</td>\n",
       "      <td>0xD824qQkuonQNHe2dSeI4</td>\n",
       "      <td>140293</td>\n",
       "      <td>4</td>\n",
       "    </tr>\n",
       "    <tr>\n",
       "      <th>1</th>\n",
       "      <td>L$D</td>\n",
       "      <td>A$AP Rocky</td>\n",
       "      <td>0.598</td>\n",
       "      <td>0.252</td>\n",
       "      <td>2</td>\n",
       "      <td>-15.086</td>\n",
       "      <td>1</td>\n",
       "      <td>0.0644</td>\n",
       "      <td>0.1940</td>\n",
       "      <td>0.133000</td>\n",
       "      <td>0.0992</td>\n",
       "      <td>0.035</td>\n",
       "      <td>120.064</td>\n",
       "      <td>4S7YHmlWwfwArgd8LfSPud</td>\n",
       "      <td>238307</td>\n",
       "      <td>4</td>\n",
       "    </tr>\n",
       "    <tr>\n",
       "      <th>2</th>\n",
       "      <td>Studio</td>\n",
       "      <td>ScHoolboy Q</td>\n",
       "      <td>0.709</td>\n",
       "      <td>0.589</td>\n",
       "      <td>8</td>\n",
       "      <td>-7.776</td>\n",
       "      <td>0</td>\n",
       "      <td>0.0433</td>\n",
       "      <td>0.0507</td>\n",
       "      <td>0.000000</td>\n",
       "      <td>0.0585</td>\n",
       "      <td>0.580</td>\n",
       "      <td>133.922</td>\n",
       "      <td>29gsi1zZrZxdStACmTQB0Z</td>\n",
       "      <td>278067</td>\n",
       "      <td>3</td>\n",
       "    </tr>\n",
       "    <tr>\n",
       "      <th>3</th>\n",
       "      <td>OTW</td>\n",
       "      <td>Khalid</td>\n",
       "      <td>0.652</td>\n",
       "      <td>0.678</td>\n",
       "      <td>2</td>\n",
       "      <td>-6.183</td>\n",
       "      <td>1</td>\n",
       "      <td>0.0541</td>\n",
       "      <td>0.1830</td>\n",
       "      <td>0.000033</td>\n",
       "      <td>0.1060</td>\n",
       "      <td>0.280</td>\n",
       "      <td>72.989</td>\n",
       "      <td>6Hgh47WXVKtXN5zGOu0hjI</td>\n",
       "      <td>263014</td>\n",
       "      <td>4</td>\n",
       "    </tr>\n",
       "    <tr>\n",
       "      <th>4</th>\n",
       "      <td>Silence</td>\n",
       "      <td>Marshmello</td>\n",
       "      <td>0.520</td>\n",
       "      <td>0.761</td>\n",
       "      <td>4</td>\n",
       "      <td>-3.093</td>\n",
       "      <td>1</td>\n",
       "      <td>0.0853</td>\n",
       "      <td>0.2560</td>\n",
       "      <td>0.000005</td>\n",
       "      <td>0.1700</td>\n",
       "      <td>0.286</td>\n",
       "      <td>141.971</td>\n",
       "      <td>7vGuf3Y35N4wmASOKLUVVU</td>\n",
       "      <td>180823</td>\n",
       "      <td>4</td>\n",
       "    </tr>\n",
       "  </tbody>\n",
       "</table>\n",
       "</div>"
      ],
      "text/plain": [
       "       song       artist  ...  duration_ms  time_signature\n",
       "0  Run Away         dvsn  ...       140293               4\n",
       "1       L$D   A$AP Rocky  ...       238307               4\n",
       "2    Studio  ScHoolboy Q  ...       278067               3\n",
       "3       OTW       Khalid  ...       263014               4\n",
       "4   Silence   Marshmello  ...       180823               4\n",
       "\n",
       "[5 rows x 16 columns]"
      ]
     },
     "execution_count": 20,
     "metadata": {},
     "output_type": "execute_result"
    }
   ],
   "source": [
    "spot_df.head()"
   ]
  },
  {
   "cell_type": "markdown",
   "id": "e3dfd868",
   "metadata": {},
   "source": [
    "## Add more songs from kaggle"
   ]
  },
  {
   "cell_type": "code",
   "execution_count": 21,
   "id": "52649be5",
   "metadata": {},
   "outputs": [],
   "source": [
    "newdata = pd.read_csv(\"dataset.csv\")"
   ]
  },
  {
   "cell_type": "code",
   "execution_count": 22,
   "id": "ff995735",
   "metadata": {},
   "outputs": [],
   "source": [
    "newdata = newdata.drop(['Unnamed: 0', 'album_name', 'track_genre', 'explicit', 'popularity'], axis=1)  "
   ]
  },
  {
   "cell_type": "code",
   "execution_count": 23,
   "id": "05f988cb",
   "metadata": {},
   "outputs": [],
   "source": [
    "newdata.rename(columns = {'track_id':'id', 'artists':'artist', 'track_name':'song'}, inplace = True)"
   ]
  },
  {
   "cell_type": "code",
   "execution_count": 24,
   "id": "3e220137",
   "metadata": {},
   "outputs": [],
   "source": [
    "newdata = newdata[['song','artist','danceability','energy','key','loudness','mode','speechiness','acousticness','instrumentalness','liveness','valence','tempo','id','duration_ms','time_signature']]"
   ]
  },
  {
   "cell_type": "code",
   "execution_count": 25,
   "id": "023674b4",
   "metadata": {},
   "outputs": [],
   "source": [
    "newdata['energy'] = newdata['energy'].round(decimals=3)"
   ]
  },
  {
   "cell_type": "code",
   "execution_count": 26,
   "id": "49b07ece",
   "metadata": {},
   "outputs": [
    {
     "data": {
      "text/html": [
       "<div>\n",
       "<style scoped>\n",
       "    .dataframe tbody tr th:only-of-type {\n",
       "        vertical-align: middle;\n",
       "    }\n",
       "\n",
       "    .dataframe tbody tr th {\n",
       "        vertical-align: top;\n",
       "    }\n",
       "\n",
       "    .dataframe thead th {\n",
       "        text-align: right;\n",
       "    }\n",
       "</style>\n",
       "<table border=\"1\" class=\"dataframe\">\n",
       "  <thead>\n",
       "    <tr style=\"text-align: right;\">\n",
       "      <th></th>\n",
       "      <th>song</th>\n",
       "      <th>artist</th>\n",
       "      <th>danceability</th>\n",
       "      <th>energy</th>\n",
       "      <th>key</th>\n",
       "      <th>loudness</th>\n",
       "      <th>mode</th>\n",
       "      <th>speechiness</th>\n",
       "      <th>acousticness</th>\n",
       "      <th>instrumentalness</th>\n",
       "      <th>liveness</th>\n",
       "      <th>valence</th>\n",
       "      <th>tempo</th>\n",
       "      <th>id</th>\n",
       "      <th>duration_ms</th>\n",
       "      <th>time_signature</th>\n",
       "    </tr>\n",
       "  </thead>\n",
       "  <tbody>\n",
       "    <tr>\n",
       "      <th>0</th>\n",
       "      <td>Comedy</td>\n",
       "      <td>Gen Hoshino</td>\n",
       "      <td>0.676</td>\n",
       "      <td>0.461</td>\n",
       "      <td>1</td>\n",
       "      <td>-6.746</td>\n",
       "      <td>0</td>\n",
       "      <td>0.1430</td>\n",
       "      <td>0.0322</td>\n",
       "      <td>0.000001</td>\n",
       "      <td>0.3580</td>\n",
       "      <td>0.715</td>\n",
       "      <td>87.917</td>\n",
       "      <td>5SuOikwiRyPMVoIQDJUgSV</td>\n",
       "      <td>230666</td>\n",
       "      <td>4</td>\n",
       "    </tr>\n",
       "    <tr>\n",
       "      <th>1</th>\n",
       "      <td>Ghost - Acoustic</td>\n",
       "      <td>Ben Woodward</td>\n",
       "      <td>0.420</td>\n",
       "      <td>0.166</td>\n",
       "      <td>1</td>\n",
       "      <td>-17.235</td>\n",
       "      <td>1</td>\n",
       "      <td>0.0763</td>\n",
       "      <td>0.9240</td>\n",
       "      <td>0.000006</td>\n",
       "      <td>0.1010</td>\n",
       "      <td>0.267</td>\n",
       "      <td>77.489</td>\n",
       "      <td>4qPNDBW1i3p13qLCt0Ki3A</td>\n",
       "      <td>149610</td>\n",
       "      <td>4</td>\n",
       "    </tr>\n",
       "    <tr>\n",
       "      <th>2</th>\n",
       "      <td>To Begin Again</td>\n",
       "      <td>Ingrid Michaelson;ZAYN</td>\n",
       "      <td>0.438</td>\n",
       "      <td>0.359</td>\n",
       "      <td>0</td>\n",
       "      <td>-9.734</td>\n",
       "      <td>1</td>\n",
       "      <td>0.0557</td>\n",
       "      <td>0.2100</td>\n",
       "      <td>0.000000</td>\n",
       "      <td>0.1170</td>\n",
       "      <td>0.120</td>\n",
       "      <td>76.332</td>\n",
       "      <td>1iJBSr7s7jYXzM8EGcbK5b</td>\n",
       "      <td>210826</td>\n",
       "      <td>4</td>\n",
       "    </tr>\n",
       "    <tr>\n",
       "      <th>3</th>\n",
       "      <td>Can't Help Falling In Love</td>\n",
       "      <td>Kina Grannis</td>\n",
       "      <td>0.266</td>\n",
       "      <td>0.060</td>\n",
       "      <td>0</td>\n",
       "      <td>-18.515</td>\n",
       "      <td>1</td>\n",
       "      <td>0.0363</td>\n",
       "      <td>0.9050</td>\n",
       "      <td>0.000071</td>\n",
       "      <td>0.1320</td>\n",
       "      <td>0.143</td>\n",
       "      <td>181.740</td>\n",
       "      <td>6lfxq3CG4xtTiEg7opyCyx</td>\n",
       "      <td>201933</td>\n",
       "      <td>3</td>\n",
       "    </tr>\n",
       "    <tr>\n",
       "      <th>4</th>\n",
       "      <td>Hold On</td>\n",
       "      <td>Chord Overstreet</td>\n",
       "      <td>0.618</td>\n",
       "      <td>0.443</td>\n",
       "      <td>2</td>\n",
       "      <td>-9.681</td>\n",
       "      <td>1</td>\n",
       "      <td>0.0526</td>\n",
       "      <td>0.4690</td>\n",
       "      <td>0.000000</td>\n",
       "      <td>0.0829</td>\n",
       "      <td>0.167</td>\n",
       "      <td>119.949</td>\n",
       "      <td>5vjLSffimiIP26QG5WcN2K</td>\n",
       "      <td>198853</td>\n",
       "      <td>4</td>\n",
       "    </tr>\n",
       "  </tbody>\n",
       "</table>\n",
       "</div>"
      ],
      "text/plain": [
       "                         song  ... time_signature\n",
       "0                      Comedy  ...              4\n",
       "1            Ghost - Acoustic  ...              4\n",
       "2              To Begin Again  ...              4\n",
       "3  Can't Help Falling In Love  ...              3\n",
       "4                     Hold On  ...              4\n",
       "\n",
       "[5 rows x 16 columns]"
      ]
     },
     "execution_count": 26,
     "metadata": {},
     "output_type": "execute_result"
    }
   ],
   "source": [
    "newdata.head()"
   ]
  },
  {
   "cell_type": "markdown",
   "id": "d2f8aeb9",
   "metadata": {},
   "source": [
    "## Concat Dataframes"
   ]
  },
  {
   "cell_type": "code",
   "execution_count": 27,
   "id": "eb65536a",
   "metadata": {},
   "outputs": [
    {
     "data": {
      "text/plain": [
       "(119186, 16)"
      ]
     },
     "execution_count": 27,
     "metadata": {},
     "output_type": "execute_result"
    }
   ],
   "source": [
    "alltracks = pd.concat([spot_df, newdata], axis=0)\n",
    "alltracks.shape"
   ]
  },
  {
   "cell_type": "code",
   "execution_count": 28,
   "id": "b956986d",
   "metadata": {},
   "outputs": [
    {
     "data": {
      "text/html": [
       "<div>\n",
       "<style scoped>\n",
       "    .dataframe tbody tr th:only-of-type {\n",
       "        vertical-align: middle;\n",
       "    }\n",
       "\n",
       "    .dataframe tbody tr th {\n",
       "        vertical-align: top;\n",
       "    }\n",
       "\n",
       "    .dataframe thead th {\n",
       "        text-align: right;\n",
       "    }\n",
       "</style>\n",
       "<table border=\"1\" class=\"dataframe\">\n",
       "  <thead>\n",
       "    <tr style=\"text-align: right;\">\n",
       "      <th></th>\n",
       "      <th>song</th>\n",
       "      <th>artist</th>\n",
       "      <th>danceability</th>\n",
       "      <th>energy</th>\n",
       "      <th>key</th>\n",
       "      <th>loudness</th>\n",
       "      <th>mode</th>\n",
       "      <th>speechiness</th>\n",
       "      <th>acousticness</th>\n",
       "      <th>instrumentalness</th>\n",
       "      <th>liveness</th>\n",
       "      <th>valence</th>\n",
       "      <th>tempo</th>\n",
       "      <th>id</th>\n",
       "      <th>duration_ms</th>\n",
       "      <th>time_signature</th>\n",
       "    </tr>\n",
       "  </thead>\n",
       "  <tbody>\n",
       "    <tr>\n",
       "      <th>0</th>\n",
       "      <td>Run Away</td>\n",
       "      <td>dvsn</td>\n",
       "      <td>0.764</td>\n",
       "      <td>0.330</td>\n",
       "      <td>2</td>\n",
       "      <td>-12.801</td>\n",
       "      <td>0</td>\n",
       "      <td>0.0427</td>\n",
       "      <td>0.1000</td>\n",
       "      <td>0.506000</td>\n",
       "      <td>0.1390</td>\n",
       "      <td>0.069</td>\n",
       "      <td>119.978</td>\n",
       "      <td>0xD824qQkuonQNHe2dSeI4</td>\n",
       "      <td>140293</td>\n",
       "      <td>4</td>\n",
       "    </tr>\n",
       "    <tr>\n",
       "      <th>1</th>\n",
       "      <td>L$D</td>\n",
       "      <td>A$AP Rocky</td>\n",
       "      <td>0.598</td>\n",
       "      <td>0.252</td>\n",
       "      <td>2</td>\n",
       "      <td>-15.086</td>\n",
       "      <td>1</td>\n",
       "      <td>0.0644</td>\n",
       "      <td>0.1940</td>\n",
       "      <td>0.133000</td>\n",
       "      <td>0.0992</td>\n",
       "      <td>0.035</td>\n",
       "      <td>120.064</td>\n",
       "      <td>4S7YHmlWwfwArgd8LfSPud</td>\n",
       "      <td>238307</td>\n",
       "      <td>4</td>\n",
       "    </tr>\n",
       "    <tr>\n",
       "      <th>2</th>\n",
       "      <td>Studio</td>\n",
       "      <td>ScHoolboy Q</td>\n",
       "      <td>0.709</td>\n",
       "      <td>0.589</td>\n",
       "      <td>8</td>\n",
       "      <td>-7.776</td>\n",
       "      <td>0</td>\n",
       "      <td>0.0433</td>\n",
       "      <td>0.0507</td>\n",
       "      <td>0.000000</td>\n",
       "      <td>0.0585</td>\n",
       "      <td>0.580</td>\n",
       "      <td>133.922</td>\n",
       "      <td>29gsi1zZrZxdStACmTQB0Z</td>\n",
       "      <td>278067</td>\n",
       "      <td>3</td>\n",
       "    </tr>\n",
       "    <tr>\n",
       "      <th>3</th>\n",
       "      <td>OTW</td>\n",
       "      <td>Khalid</td>\n",
       "      <td>0.652</td>\n",
       "      <td>0.678</td>\n",
       "      <td>2</td>\n",
       "      <td>-6.183</td>\n",
       "      <td>1</td>\n",
       "      <td>0.0541</td>\n",
       "      <td>0.1830</td>\n",
       "      <td>0.000033</td>\n",
       "      <td>0.1060</td>\n",
       "      <td>0.280</td>\n",
       "      <td>72.989</td>\n",
       "      <td>6Hgh47WXVKtXN5zGOu0hjI</td>\n",
       "      <td>263014</td>\n",
       "      <td>4</td>\n",
       "    </tr>\n",
       "    <tr>\n",
       "      <th>4</th>\n",
       "      <td>Silence</td>\n",
       "      <td>Marshmello</td>\n",
       "      <td>0.520</td>\n",
       "      <td>0.761</td>\n",
       "      <td>4</td>\n",
       "      <td>-3.093</td>\n",
       "      <td>1</td>\n",
       "      <td>0.0853</td>\n",
       "      <td>0.2560</td>\n",
       "      <td>0.000005</td>\n",
       "      <td>0.1700</td>\n",
       "      <td>0.286</td>\n",
       "      <td>141.971</td>\n",
       "      <td>7vGuf3Y35N4wmASOKLUVVU</td>\n",
       "      <td>180823</td>\n",
       "      <td>4</td>\n",
       "    </tr>\n",
       "  </tbody>\n",
       "</table>\n",
       "</div>"
      ],
      "text/plain": [
       "       song       artist  ...  duration_ms  time_signature\n",
       "0  Run Away         dvsn  ...       140293               4\n",
       "1       L$D   A$AP Rocky  ...       238307               4\n",
       "2    Studio  ScHoolboy Q  ...       278067               3\n",
       "3       OTW       Khalid  ...       263014               4\n",
       "4   Silence   Marshmello  ...       180823               4\n",
       "\n",
       "[5 rows x 16 columns]"
      ]
     },
     "execution_count": 28,
     "metadata": {},
     "output_type": "execute_result"
    }
   ],
   "source": [
    "alltracks.head()"
   ]
  },
  {
   "cell_type": "markdown",
   "id": "594dcbd8",
   "metadata": {},
   "source": [
    "## Scaling and Clustering"
   ]
  },
  {
   "cell_type": "markdown",
   "id": "56b02cd4",
   "metadata": {},
   "source": [
    "#### Drop categoricals before scaling"
   ]
  },
  {
   "cell_type": "code",
   "execution_count": 29,
   "id": "1f7d9457",
   "metadata": {},
   "outputs": [],
   "source": [
    "justfeat = alltracks.drop(['song','artist','id'], axis=1)"
   ]
  },
  {
   "cell_type": "code",
   "execution_count": 30,
   "id": "4b763a1d",
   "metadata": {},
   "outputs": [
    {
     "data": {
      "text/html": [
       "<div>\n",
       "<style scoped>\n",
       "    .dataframe tbody tr th:only-of-type {\n",
       "        vertical-align: middle;\n",
       "    }\n",
       "\n",
       "    .dataframe tbody tr th {\n",
       "        vertical-align: top;\n",
       "    }\n",
       "\n",
       "    .dataframe thead th {\n",
       "        text-align: right;\n",
       "    }\n",
       "</style>\n",
       "<table border=\"1\" class=\"dataframe\">\n",
       "  <thead>\n",
       "    <tr style=\"text-align: right;\">\n",
       "      <th></th>\n",
       "      <th>danceability</th>\n",
       "      <th>energy</th>\n",
       "      <th>key</th>\n",
       "      <th>loudness</th>\n",
       "      <th>mode</th>\n",
       "      <th>speechiness</th>\n",
       "      <th>acousticness</th>\n",
       "      <th>instrumentalness</th>\n",
       "      <th>liveness</th>\n",
       "      <th>valence</th>\n",
       "      <th>tempo</th>\n",
       "      <th>duration_ms</th>\n",
       "      <th>time_signature</th>\n",
       "    </tr>\n",
       "  </thead>\n",
       "  <tbody>\n",
       "    <tr>\n",
       "      <th>0</th>\n",
       "      <td>0.764</td>\n",
       "      <td>0.330</td>\n",
       "      <td>2</td>\n",
       "      <td>-12.801</td>\n",
       "      <td>0</td>\n",
       "      <td>0.0427</td>\n",
       "      <td>0.1000</td>\n",
       "      <td>0.506000</td>\n",
       "      <td>0.1390</td>\n",
       "      <td>0.069</td>\n",
       "      <td>119.978</td>\n",
       "      <td>140293</td>\n",
       "      <td>4</td>\n",
       "    </tr>\n",
       "    <tr>\n",
       "      <th>1</th>\n",
       "      <td>0.598</td>\n",
       "      <td>0.252</td>\n",
       "      <td>2</td>\n",
       "      <td>-15.086</td>\n",
       "      <td>1</td>\n",
       "      <td>0.0644</td>\n",
       "      <td>0.1940</td>\n",
       "      <td>0.133000</td>\n",
       "      <td>0.0992</td>\n",
       "      <td>0.035</td>\n",
       "      <td>120.064</td>\n",
       "      <td>238307</td>\n",
       "      <td>4</td>\n",
       "    </tr>\n",
       "    <tr>\n",
       "      <th>2</th>\n",
       "      <td>0.709</td>\n",
       "      <td>0.589</td>\n",
       "      <td>8</td>\n",
       "      <td>-7.776</td>\n",
       "      <td>0</td>\n",
       "      <td>0.0433</td>\n",
       "      <td>0.0507</td>\n",
       "      <td>0.000000</td>\n",
       "      <td>0.0585</td>\n",
       "      <td>0.580</td>\n",
       "      <td>133.922</td>\n",
       "      <td>278067</td>\n",
       "      <td>3</td>\n",
       "    </tr>\n",
       "    <tr>\n",
       "      <th>3</th>\n",
       "      <td>0.652</td>\n",
       "      <td>0.678</td>\n",
       "      <td>2</td>\n",
       "      <td>-6.183</td>\n",
       "      <td>1</td>\n",
       "      <td>0.0541</td>\n",
       "      <td>0.1830</td>\n",
       "      <td>0.000033</td>\n",
       "      <td>0.1060</td>\n",
       "      <td>0.280</td>\n",
       "      <td>72.989</td>\n",
       "      <td>263014</td>\n",
       "      <td>4</td>\n",
       "    </tr>\n",
       "    <tr>\n",
       "      <th>4</th>\n",
       "      <td>0.520</td>\n",
       "      <td>0.761</td>\n",
       "      <td>4</td>\n",
       "      <td>-3.093</td>\n",
       "      <td>1</td>\n",
       "      <td>0.0853</td>\n",
       "      <td>0.2560</td>\n",
       "      <td>0.000005</td>\n",
       "      <td>0.1700</td>\n",
       "      <td>0.286</td>\n",
       "      <td>141.971</td>\n",
       "      <td>180823</td>\n",
       "      <td>4</td>\n",
       "    </tr>\n",
       "  </tbody>\n",
       "</table>\n",
       "</div>"
      ],
      "text/plain": [
       "   danceability  energy  key  ...    tempo  duration_ms  time_signature\n",
       "0         0.764   0.330    2  ...  119.978       140293               4\n",
       "1         0.598   0.252    2  ...  120.064       238307               4\n",
       "2         0.709   0.589    8  ...  133.922       278067               3\n",
       "3         0.652   0.678    2  ...   72.989       263014               4\n",
       "4         0.520   0.761    4  ...  141.971       180823               4\n",
       "\n",
       "[5 rows x 13 columns]"
      ]
     },
     "execution_count": 30,
     "metadata": {},
     "output_type": "execute_result"
    }
   ],
   "source": [
    "justfeat.head()"
   ]
  },
  {
   "cell_type": "markdown",
   "id": "e5b36d36",
   "metadata": {},
   "source": [
    "#### Scale features"
   ]
  },
  {
   "cell_type": "code",
   "execution_count": 31,
   "id": "14a49da6",
   "metadata": {},
   "outputs": [],
   "source": [
    "from sklearn.preprocessing import StandardScaler\n",
    "\n",
    "transformer = StandardScaler().fit(justfeat)\n",
    "featscale = transformer.transform(justfeat)\n",
    "audfeat = pd.DataFrame(featscale,columns=justfeat.columns)"
   ]
  },
  {
   "cell_type": "code",
   "execution_count": 32,
   "id": "c86988e3",
   "metadata": {},
   "outputs": [
    {
     "data": {
      "text/html": [
       "<div>\n",
       "<style scoped>\n",
       "    .dataframe tbody tr th:only-of-type {\n",
       "        vertical-align: middle;\n",
       "    }\n",
       "\n",
       "    .dataframe tbody tr th {\n",
       "        vertical-align: top;\n",
       "    }\n",
       "\n",
       "    .dataframe thead th {\n",
       "        text-align: right;\n",
       "    }\n",
       "</style>\n",
       "<table border=\"1\" class=\"dataframe\">\n",
       "  <thead>\n",
       "    <tr style=\"text-align: right;\">\n",
       "      <th></th>\n",
       "      <th>danceability</th>\n",
       "      <th>energy</th>\n",
       "      <th>key</th>\n",
       "      <th>loudness</th>\n",
       "      <th>mode</th>\n",
       "      <th>speechiness</th>\n",
       "      <th>acousticness</th>\n",
       "      <th>instrumentalness</th>\n",
       "      <th>liveness</th>\n",
       "      <th>valence</th>\n",
       "      <th>tempo</th>\n",
       "      <th>duration_ms</th>\n",
       "      <th>time_signature</th>\n",
       "    </tr>\n",
       "  </thead>\n",
       "  <tbody>\n",
       "    <tr>\n",
       "      <th>0</th>\n",
       "      <td>1.104103</td>\n",
       "      <td>-1.249610</td>\n",
       "      <td>-0.929071</td>\n",
       "      <td>-0.926769</td>\n",
       "      <td>-1.307412</td>\n",
       "      <td>-0.422267</td>\n",
       "      <td>-0.644035</td>\n",
       "      <td>1.169213</td>\n",
       "      <td>-0.386636</td>\n",
       "      <td>-1.573036</td>\n",
       "      <td>-0.067468</td>\n",
       "      <td>-0.824314</td>\n",
       "      <td>0.215403</td>\n",
       "    </tr>\n",
       "    <tr>\n",
       "      <th>1</th>\n",
       "      <td>0.148839</td>\n",
       "      <td>-1.564078</td>\n",
       "      <td>-0.929071</td>\n",
       "      <td>-1.388305</td>\n",
       "      <td>0.764870</td>\n",
       "      <td>-0.222519</td>\n",
       "      <td>-0.358311</td>\n",
       "      <td>-0.055184</td>\n",
       "      <td>-0.597927</td>\n",
       "      <td>-1.705151</td>\n",
       "      <td>-0.064599</td>\n",
       "      <td>0.103814</td>\n",
       "      <td>0.215403</td>\n",
       "    </tr>\n",
       "    <tr>\n",
       "      <th>2</th>\n",
       "      <td>0.787600</td>\n",
       "      <td>-0.205417</td>\n",
       "      <td>0.756082</td>\n",
       "      <td>0.088205</td>\n",
       "      <td>-1.307412</td>\n",
       "      <td>-0.416744</td>\n",
       "      <td>-0.793888</td>\n",
       "      <td>-0.491766</td>\n",
       "      <td>-0.813996</td>\n",
       "      <td>0.412570</td>\n",
       "      <td>0.397716</td>\n",
       "      <td>0.480315</td>\n",
       "      <td>-2.111945</td>\n",
       "    </tr>\n",
       "    <tr>\n",
       "      <th>3</th>\n",
       "      <td>0.459587</td>\n",
       "      <td>0.153399</td>\n",
       "      <td>-0.929071</td>\n",
       "      <td>0.409967</td>\n",
       "      <td>0.764870</td>\n",
       "      <td>-0.317330</td>\n",
       "      <td>-0.391747</td>\n",
       "      <td>-0.491659</td>\n",
       "      <td>-0.561827</td>\n",
       "      <td>-0.753148</td>\n",
       "      <td>-1.635063</td>\n",
       "      <td>0.337773</td>\n",
       "      <td>0.215403</td>\n",
       "    </tr>\n",
       "    <tr>\n",
       "      <th>4</th>\n",
       "      <td>-0.300020</td>\n",
       "      <td>0.488024</td>\n",
       "      <td>-0.367353</td>\n",
       "      <td>1.034101</td>\n",
       "      <td>0.764870</td>\n",
       "      <td>-0.030136</td>\n",
       "      <td>-0.169855</td>\n",
       "      <td>-0.491749</td>\n",
       "      <td>-0.222062</td>\n",
       "      <td>-0.729834</td>\n",
       "      <td>0.666237</td>\n",
       "      <td>-0.440521</td>\n",
       "      <td>0.215403</td>\n",
       "    </tr>\n",
       "  </tbody>\n",
       "</table>\n",
       "</div>"
      ],
      "text/plain": [
       "   danceability    energy       key  ...     tempo  duration_ms  time_signature\n",
       "0      1.104103 -1.249610 -0.929071  ... -0.067468    -0.824314        0.215403\n",
       "1      0.148839 -1.564078 -0.929071  ... -0.064599     0.103814        0.215403\n",
       "2      0.787600 -0.205417  0.756082  ...  0.397716     0.480315       -2.111945\n",
       "3      0.459587  0.153399 -0.929071  ... -1.635063     0.337773        0.215403\n",
       "4     -0.300020  0.488024 -0.367353  ...  0.666237    -0.440521        0.215403\n",
       "\n",
       "[5 rows x 13 columns]"
      ]
     },
     "execution_count": 32,
     "metadata": {},
     "output_type": "execute_result"
    }
   ],
   "source": [
    "audfeat.head()"
   ]
  },
  {
   "cell_type": "markdown",
   "id": "92b70061",
   "metadata": {},
   "source": [
    "#### Get optimal K"
   ]
  },
  {
   "cell_type": "code",
   "execution_count": 120,
   "id": "07d54c6b",
   "metadata": {},
   "outputs": [
    {
     "data": {
      "text/plain": [
       "Text(0.5, 1.0, 'Elbow Method showing the optimal k')"
      ]
     },
     "execution_count": 120,
     "metadata": {},
     "output_type": "execute_result"
    },
    {
     "data": {
      "image/png": "[encoded data removed]",
      "text/plain": [
       "<Figure size 1600x800 with 1 Axes>"
      ]
     },
     "metadata": {},
     "output_type": "display_data"
    }
   ],
   "source": [
    "import numpy as np\n",
    "from sklearn.cluster import KMeans\n",
    "K = range(2, 20)\n",
    "inertia = []\n",
    "\n",
    "for k in K:\n",
    "    kmeans = KMeans(n_clusters=k, random_state=540)\n",
    "    kmeans.fit(audfeat)\n",
    "    inertia.append(kmeans.inertia_)\n",
    "\n",
    "import matplotlib.pyplot as plt\n",
    "%matplotlib inline\n",
    "\n",
    "plt.figure(figsize=(16,8))\n",
    "plt.plot(K, inertia, 'bx-')\n",
    "plt.xlabel('k')\n",
    "plt.ylabel('inertia')\n",
    "plt.xticks(np.arange(min(K), max(K)+1, 1.0))\n",
    "plt.title('Elbow Method showing the optimal k')"
   ]
  },
  {
   "cell_type": "code",
   "execution_count": 121,
   "id": "61bb80cb",
   "metadata": {},
   "outputs": [
    {
     "data": {
      "text/plain": [
       "Text(0.5, 1.0, 'Slhouette score showing the optimal k')"
      ]
     },
     "execution_count": 121,
     "metadata": {},
     "output_type": "execute_result"
    },
    {
     "data": {
      "image/png": "[encoded data removed]",
      "text/plain": [
       "<Figure size 1600x800 with 1 Axes>"
      ]
     },
     "metadata": {},
     "output_type": "display_data"
    }
   ],
   "source": [
    "from sklearn.metrics import silhouette_score\n",
    "K = range(2, 20)\n",
    "silhouette = []\n",
    "\n",
    "for k in K:\n",
    "    kmeans = KMeans(n_clusters=k, random_state=540)\n",
    "    kmeans.fit(audfeat)\n",
    "    silhouette.append(silhouette_score(audfeat, kmeans.predict(audfeat)))\n",
    "\n",
    "\n",
    "plt.figure(figsize=(16,8))\n",
    "plt.plot(K, silhouette, 'bx-')\n",
    "plt.xlabel('k')\n",
    "plt.ylabel('silhouette score')\n",
    "plt.xticks(np.arange(min(K), max(K)+1, 1.0))\n",
    "plt.title('Slhouette score showing the optimal k')"
   ]
  },
  {
   "cell_type": "markdown",
   "id": "b1282742",
   "metadata": {},
   "source": [
    "#### Use optimal K to make clusters"
   ]
  },
  {
   "cell_type": "code",
   "execution_count": 51,
   "id": "626714e7",
   "metadata": {},
   "outputs": [
    {
     "data": {
      "text/plain": [
       "array([24,  1, 21, ...,  6, 22,  6], dtype=int32)"
      ]
     },
     "execution_count": 51,
     "metadata": {},
     "output_type": "execute_result"
    }
   ],
   "source": [
    "#Chose 25 after doing some tests with K's\n",
    "kmeans = cluster.KMeans(n_clusters=25)\n",
    "kmeans.fit(audfeat)\n",
    "pred = kmeans.predict(audfeat)\n",
    "pred"
   ]
  },
  {
   "cell_type": "code",
   "execution_count": 2,
   "id": "81a67f64",
   "metadata": {},
   "outputs": [],
   "source": [
    "#pd.Series(pred).value_counts().sort_index()"
   ]
  },
  {
   "cell_type": "markdown",
   "id": "600880e0",
   "metadata": {},
   "source": [
    "#### Add cluster numbers to dataframe"
   ]
  },
  {
   "cell_type": "code",
   "execution_count": 53,
   "id": "81f4e4b2",
   "metadata": {},
   "outputs": [],
   "source": [
    "alltracks['clusters'] = pred"
   ]
  },
  {
   "cell_type": "code",
   "execution_count": 54,
   "id": "69c586ba",
   "metadata": {},
   "outputs": [
    {
     "data": {
      "text/html": [
       "<div>\n",
       "<style scoped>\n",
       "    .dataframe tbody tr th:only-of-type {\n",
       "        vertical-align: middle;\n",
       "    }\n",
       "\n",
       "    .dataframe tbody tr th {\n",
       "        vertical-align: top;\n",
       "    }\n",
       "\n",
       "    .dataframe thead th {\n",
       "        text-align: right;\n",
       "    }\n",
       "</style>\n",
       "<table border=\"1\" class=\"dataframe\">\n",
       "  <thead>\n",
       "    <tr style=\"text-align: right;\">\n",
       "      <th></th>\n",
       "      <th>song</th>\n",
       "      <th>artist</th>\n",
       "      <th>danceability</th>\n",
       "      <th>energy</th>\n",
       "      <th>key</th>\n",
       "      <th>loudness</th>\n",
       "      <th>mode</th>\n",
       "      <th>speechiness</th>\n",
       "      <th>acousticness</th>\n",
       "      <th>instrumentalness</th>\n",
       "      <th>liveness</th>\n",
       "      <th>valence</th>\n",
       "      <th>tempo</th>\n",
       "      <th>id</th>\n",
       "      <th>duration_ms</th>\n",
       "      <th>time_signature</th>\n",
       "      <th>clusters</th>\n",
       "    </tr>\n",
       "  </thead>\n",
       "  <tbody>\n",
       "    <tr>\n",
       "      <th>0</th>\n",
       "      <td>Run Away</td>\n",
       "      <td>dvsn</td>\n",
       "      <td>0.764</td>\n",
       "      <td>0.330</td>\n",
       "      <td>2</td>\n",
       "      <td>-12.801</td>\n",
       "      <td>0</td>\n",
       "      <td>0.0427</td>\n",
       "      <td>0.1000</td>\n",
       "      <td>0.506000</td>\n",
       "      <td>0.1390</td>\n",
       "      <td>0.069</td>\n",
       "      <td>119.978</td>\n",
       "      <td>0xD824qQkuonQNHe2dSeI4</td>\n",
       "      <td>140293</td>\n",
       "      <td>4</td>\n",
       "      <td>24</td>\n",
       "    </tr>\n",
       "    <tr>\n",
       "      <th>1</th>\n",
       "      <td>L$D</td>\n",
       "      <td>A$AP Rocky</td>\n",
       "      <td>0.598</td>\n",
       "      <td>0.252</td>\n",
       "      <td>2</td>\n",
       "      <td>-15.086</td>\n",
       "      <td>1</td>\n",
       "      <td>0.0644</td>\n",
       "      <td>0.1940</td>\n",
       "      <td>0.133000</td>\n",
       "      <td>0.0992</td>\n",
       "      <td>0.035</td>\n",
       "      <td>120.064</td>\n",
       "      <td>4S7YHmlWwfwArgd8LfSPud</td>\n",
       "      <td>238307</td>\n",
       "      <td>4</td>\n",
       "      <td>1</td>\n",
       "    </tr>\n",
       "    <tr>\n",
       "      <th>2</th>\n",
       "      <td>Studio</td>\n",
       "      <td>ScHoolboy Q</td>\n",
       "      <td>0.709</td>\n",
       "      <td>0.589</td>\n",
       "      <td>8</td>\n",
       "      <td>-7.776</td>\n",
       "      <td>0</td>\n",
       "      <td>0.0433</td>\n",
       "      <td>0.0507</td>\n",
       "      <td>0.000000</td>\n",
       "      <td>0.0585</td>\n",
       "      <td>0.580</td>\n",
       "      <td>133.922</td>\n",
       "      <td>29gsi1zZrZxdStACmTQB0Z</td>\n",
       "      <td>278067</td>\n",
       "      <td>3</td>\n",
       "      <td>21</td>\n",
       "    </tr>\n",
       "    <tr>\n",
       "      <th>3</th>\n",
       "      <td>OTW</td>\n",
       "      <td>Khalid</td>\n",
       "      <td>0.652</td>\n",
       "      <td>0.678</td>\n",
       "      <td>2</td>\n",
       "      <td>-6.183</td>\n",
       "      <td>1</td>\n",
       "      <td>0.0541</td>\n",
       "      <td>0.1830</td>\n",
       "      <td>0.000033</td>\n",
       "      <td>0.1060</td>\n",
       "      <td>0.280</td>\n",
       "      <td>72.989</td>\n",
       "      <td>6Hgh47WXVKtXN5zGOu0hjI</td>\n",
       "      <td>263014</td>\n",
       "      <td>4</td>\n",
       "      <td>4</td>\n",
       "    </tr>\n",
       "    <tr>\n",
       "      <th>4</th>\n",
       "      <td>Silence</td>\n",
       "      <td>Marshmello</td>\n",
       "      <td>0.520</td>\n",
       "      <td>0.761</td>\n",
       "      <td>4</td>\n",
       "      <td>-3.093</td>\n",
       "      <td>1</td>\n",
       "      <td>0.0853</td>\n",
       "      <td>0.2560</td>\n",
       "      <td>0.000005</td>\n",
       "      <td>0.1700</td>\n",
       "      <td>0.286</td>\n",
       "      <td>141.971</td>\n",
       "      <td>7vGuf3Y35N4wmASOKLUVVU</td>\n",
       "      <td>180823</td>\n",
       "      <td>4</td>\n",
       "      <td>19</td>\n",
       "    </tr>\n",
       "  </tbody>\n",
       "</table>\n",
       "</div>"
      ],
      "text/plain": [
       "       song       artist  danceability  ...  duration_ms  time_signature  clusters\n",
       "0  Run Away         dvsn         0.764  ...       140293               4        24\n",
       "1       L$D   A$AP Rocky         0.598  ...       238307               4         1\n",
       "2    Studio  ScHoolboy Q         0.709  ...       278067               3        21\n",
       "3       OTW       Khalid         0.652  ...       263014               4         4\n",
       "4   Silence   Marshmello         0.520  ...       180823               4        19\n",
       "\n",
       "[5 rows x 17 columns]"
      ]
     },
     "execution_count": 54,
     "metadata": {},
     "output_type": "execute_result"
    }
   ],
   "source": [
    "alltracks.head()"
   ]
  },
  {
   "cell_type": "markdown",
   "id": "9071d89b",
   "metadata": {},
   "source": [
    "## Song Recommeder for GNOD"
   ]
  },
  {
   "cell_type": "code",
   "execution_count": 95,
   "id": "3df3df2c",
   "metadata": {},
   "outputs": [],
   "source": [
    "def songrecommender():\n",
    "    song = input(\"Enter song name: \")\n",
    "    artist = input(\"Enter artist name: \")\n",
    "    \n",
    "    #songs in top100 playlist\n",
    "    for i in range(len(top100.values)):\n",
    "        if (song in top100.values[i][0]) & (artist in top100.values[i][1]):\n",
    "            recommendation = top100[(top100['title'] != song) & (top100['artist'] != artist)].iloc[random.randint(0,99)]\n",
    "            return \"We recommend: \" + recommendation.title + \" by \" + recommendation.artist \n",
    "    \n",
    "    #songs not in top100 playlist\n",
    "    for i in range(len(alltracks.values)): \n",
    "        if (song not in top100.values[i][0]) & (artist not in top100.values[i][1]):\n",
    "                #get features from spotify\n",
    "                track_id = sp.search(q='artist:' + artist + ' track:' + song, type='track') #found on stackov\n",
    "                songuri = track_id[\"tracks\"][\"items\"][0][\"uri\"] \n",
    "                get_feat = sp.audio_features(songuri)\n",
    "                \n",
    "                #drop categoricals\n",
    "                featdf = pd.DataFrame(get_feat)\n",
    "                featdf = featdf.drop(['type','id','uri','track_href','analysis_url'], axis=1)\n",
    "                \n",
    "                #scale features\n",
    "                featnorm = transformer.transform(featdf)\n",
    "                featnorm = pd.DataFrame(featnorm,columns=featdf.columns)\n",
    "                \n",
    "                #get cluster and recommend song in cluster\n",
    "                clustnum = kmeans.predict(featnorm)[0]\n",
    "                cluster = alltracks[alltracks['clusters'] == clustnum]\n",
    "                recommendation = cluster[(cluster['song'] != song) & (cluster['artist'] != artist)].iloc[random.randint(0,len(cluster))]\n",
    "                return \"We recommend: \" + recommendation.song + \" by \" + recommendation.artist + \".  \" \"Link to song: \" + \"https://open.spotify.com/track/\" + recommendation.id + \" \"\n",
    "                        "
   ]
  },
  {
   "cell_type": "markdown",
   "id": "cf4d785c",
   "metadata": {},
   "source": [
    "#### Test with a song from the Hot100 playlist"
   ]
  },
  {
   "cell_type": "code",
   "execution_count": 69,
   "id": "2f812f11",
   "metadata": {},
   "outputs": [
    {
     "name": "stdout",
     "output_type": "stream",
     "text": [
      "Enter song name: Made You Look\n",
      "Enter artist name: Meghan Trainor\n"
     ]
    },
    {
     "data": {
      "text/plain": [
       "'We recommend: Red Ruby Da Sleeze (Sped Up) [feat. Xxtristanxo & Speed Radio] by Nicki Minaj, Xxtristanxo & Speed Radio'"
      ]
     },
     "execution_count": 69,
     "metadata": {},
     "output_type": "execute_result"
    }
   ],
   "source": [
    "songrecommender()"
   ]
  },
  {
   "cell_type": "markdown",
   "id": "69cc1163",
   "metadata": {},
   "source": [
    "#### Test with a song not in Hot100 playlist"
   ]
  },
  {
   "cell_type": "code",
   "execution_count": 56,
   "id": "9ad8755b",
   "metadata": {},
   "outputs": [
    {
     "name": "stdout",
     "output_type": "stream",
     "text": [
      "Enter song name: Pepas\n",
      "Enter artist name: Farruko\n"
     ]
    },
    {
     "data": {
      "text/plain": [
       "'We recommend: Fall by Bassjackers;L3N.  Link to song: https://open.spotify.com/track/77gg2iID0drmIb7bvj3pqo '"
      ]
     },
     "execution_count": 56,
     "metadata": {},
     "output_type": "execute_result"
    }
   ],
   "source": [
    "songrecommender()"
   ]
  },
  {
   "cell_type": "markdown",
   "id": "417d8d3e",
   "metadata": {},
   "source": [
    "#### Testing to see if it picks from right cluster"
   ]
  },
  {
   "cell_type": "code",
   "execution_count": 1,
   "id": "67f44790",
   "metadata": {},
   "outputs": [],
   "source": [
    "#alltracks[alltracks['clusters'] == 16]"
   ]
  },
  {
   "cell_type": "code",
   "execution_count": 58,
   "id": "fa82f311",
   "metadata": {},
   "outputs": [
    {
     "name": "stdout",
     "output_type": "stream",
     "text": [
      "Enter song name: Electric Fan (Sound Masking Fan)\n",
      "Enter artist name: Electric Dreams\n"
     ]
    },
    {
     "data": {
      "text/plain": [
       "'We recommend: Internal Flight (Remastered) by Estas Tonne.  Link to song: https://open.spotify.com/track/0PINNy1r5eEILOuHpnjl5d '"
      ]
     },
     "execution_count": 58,
     "metadata": {},
     "output_type": "execute_result"
    }
   ],
   "source": [
    "songrecommender()"
   ]
  }
 ],
 "metadata": {
  "kernelspec": {
   "display_name": "Python 3 (ipykernel)",
   "language": "python",
   "name": "python3"
  },
  "language_info": {
   "codemirror_mode": {
    "name": "ipython",
    "version": 3
   },
   "file_extension": ".py",
   "mimetype": "text/x-python",
   "name": "python",
   "nbconvert_exporter": "python",
   "pygments_lexer": "ipython3",
   "version": "3.9.13"
  }
 },
 "nbformat": 4,
 "nbformat_minor": 5
}
