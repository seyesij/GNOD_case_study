{
 "cells": [
  {
   "cell_type": "code",
   "execution_count": 1,
   "id": "84c10166",
   "metadata": {},
   "outputs": [],
   "source": [
    "import requests\n",
    "import pandas as pd \n",
    "import numpy as np\n",
    "from bs4 import BeautifulSoup\n",
    "import matplotlib.pyplot as plt\n",
    "from matplotlib.lines import Line2D\n",
    "from sklearn import cluster, datasets\n",
    "from sklearn.preprocessing import StandardScaler\n",
    "import spotipy\n",
    "from spotipy.oauth2 import SpotifyClientCredentials\n",
    "pd.set_option('display.max_columns', 0)\n",
    "import random"
   ]
  },
  {
   "cell_type": "code",
   "execution_count": 2,
   "id": "2664d0b0",
   "metadata": {},
   "outputs": [],
   "source": [
    "secrets_file = open(\"secrets.txt\",\"r\")\n",
    "string = secrets_file.read()\n",
    "string.split('\\n')\n",
    "secrets_dict={}\n",
    "for line in string.split('\\n'):\n",
    "    if len(line) > 0:\n",
    "        secrets_dict[line.split(':')[0]]=line.split(':')[1].strip()\n",
    "\n",
    "sp = spotipy.Spotify(auth_manager=SpotifyClientCredentials(client_id=secrets_dict['cid'],\n",
    "                                                           client_secret=secrets_dict['csecret']))"
   ]
  },
  {
   "cell_type": "code",
   "execution_count": 3,
   "id": "9c893803",
   "metadata": {},
   "outputs": [],
   "source": [
    "url = \"https://www.popvortex.com/music/charts/top-100-songs.php\"\n",
    "\n",
    "#download html with a get request\n",
    "response = requests.get(url)\n",
    "response.status_code\n",
    "\n",
    "#parse html (create the 'soup')\n",
    "soup = BeautifulSoup(response.content, \"html.parser\")"
   ]
  },
  {
   "cell_type": "code",
   "execution_count": 4,
   "id": "062853ba",
   "metadata": {},
   "outputs": [],
   "source": [
    "#soup"
   ]
  },
  {
   "cell_type": "code",
   "execution_count": 5,
   "id": "da036f48",
   "metadata": {},
   "outputs": [
    {
     "data": {
      "text/plain": [
       "[<p class=\"title-artist\"><cite class=\"title\">Thank God I Do</cite><em class=\"artist\">Lauren Daigle</em></p>]"
      ]
     },
     "execution_count": 5,
     "metadata": {},
     "output_type": "execute_result"
    }
   ],
   "source": [
    "soup.select(\"#chart-position-1 > div.chart-content.col-xs-12.col-sm-8 > p\")"
   ]
  },
  {
   "cell_type": "code",
   "execution_count": 6,
   "id": "e400fad8",
   "metadata": {},
   "outputs": [
    {
     "data": {
      "text/plain": [
       "'Thank God I Do'"
      ]
     },
     "execution_count": 6,
     "metadata": {},
     "output_type": "execute_result"
    }
   ],
   "source": [
    "soup.select(\"div.chart-content.col-xs-12.col-sm-8 > p > cite\")[0].get_text()"
   ]
  },
  {
   "cell_type": "code",
   "execution_count": 7,
   "id": "33b575b5",
   "metadata": {},
   "outputs": [
    {
     "data": {
      "text/plain": [
       "'Lauren Daigle'"
      ]
     },
     "execution_count": 7,
     "metadata": {},
     "output_type": "execute_result"
    }
   ],
   "source": [
    "soup.select(\"div.chart-content.col-xs-12.col-sm-8 > p > em\")[0].get_text()"
   ]
  },
  {
   "cell_type": "code",
   "execution_count": 8,
   "id": "fd0cf233",
   "metadata": {},
   "outputs": [],
   "source": [
    "title = []\n",
    "artist = []\n",
    "\n",
    "num_iter = len(soup.select(\"div.chart-content.col-xs-12.col-sm-8 > p > cite\"))\n",
    "tlist = soup.select(\"div.chart-content.col-xs-12.col-sm-8 > p > cite\")\n",
    "alist = soup.select(\"div.chart-content.col-xs-12.col-sm-8 > p > em\")\n",
    "\n",
    "# iterate through the result set and retrive all the data\n",
    "for i in range(num_iter):\n",
    "    title.append(tlist[i].get_text())\n",
    "    artist.append(alist[i].get_text())"
   ]
  },
  {
   "cell_type": "code",
   "execution_count": 9,
   "id": "9fa65661",
   "metadata": {},
   "outputs": [],
   "source": [
    "top100 = pd.DataFrame({\"title\":title, \"artist\":artist})"
   ]
  },
  {
   "cell_type": "code",
   "execution_count": 10,
   "id": "179df350",
   "metadata": {},
   "outputs": [
    {
     "data": {
      "text/html": [
       "<div>\n",
       "<style scoped>\n",
       "    .dataframe tbody tr th:only-of-type {\n",
       "        vertical-align: middle;\n",
       "    }\n",
       "\n",
       "    .dataframe tbody tr th {\n",
       "        vertical-align: top;\n",
       "    }\n",
       "\n",
       "    .dataframe thead th {\n",
       "        text-align: right;\n",
       "    }\n",
       "</style>\n",
       "<table border=\"1\" class=\"dataframe\">\n",
       "  <thead>\n",
       "    <tr style=\"text-align: right;\">\n",
       "      <th></th>\n",
       "      <th>title</th>\n",
       "      <th>artist</th>\n",
       "    </tr>\n",
       "  </thead>\n",
       "  <tbody>\n",
       "    <tr>\n",
       "      <th>0</th>\n",
       "      <td>Thank God I Do</td>\n",
       "      <td>Lauren Daigle</td>\n",
       "    </tr>\n",
       "    <tr>\n",
       "      <th>1</th>\n",
       "      <td>Last Night</td>\n",
       "      <td>Morgan Wallen</td>\n",
       "    </tr>\n",
       "    <tr>\n",
       "      <th>2</th>\n",
       "      <td>Flowers</td>\n",
       "      <td>Miley Cyrus</td>\n",
       "    </tr>\n",
       "    <tr>\n",
       "      <th>3</th>\n",
       "      <td>Fast Car</td>\n",
       "      <td>Luke Combs</td>\n",
       "    </tr>\n",
       "    <tr>\n",
       "      <th>4</th>\n",
       "      <td>Calm Down</td>\n",
       "      <td>Rema &amp; Selena Gomez</td>\n",
       "    </tr>\n",
       "  </tbody>\n",
       "</table>\n",
       "</div>"
      ],
      "text/plain": [
       "            title               artist\n",
       "0  Thank God I Do        Lauren Daigle\n",
       "1      Last Night        Morgan Wallen\n",
       "2         Flowers          Miley Cyrus\n",
       "3        Fast Car           Luke Combs\n",
       "4       Calm Down  Rema & Selena Gomez"
      ]
     },
     "execution_count": 10,
     "metadata": {},
     "output_type": "execute_result"
    }
   ],
   "source": [
    "top100.head()"
   ]
  },
  {
   "cell_type": "markdown",
   "id": "e1d35715",
   "metadata": {},
   "source": [
    "## Bonus: Get another top 100 song list"
   ]
  },
  {
   "cell_type": "code",
   "execution_count": 11,
   "id": "8cce1a66",
   "metadata": {},
   "outputs": [],
   "source": [
    "url = \"https://www.officialcharts.com/charts/singles-chart/\"\n",
    "response = requests.get(url)\n",
    "response.status_code\n",
    "soup = BeautifulSoup(response.content, \"html.parser\")"
   ]
  },
  {
   "cell_type": "code",
   "execution_count": 12,
   "id": "dfbe88c0",
   "metadata": {},
   "outputs": [],
   "source": [
    "# soup.select(\"#main > article > div > div.grid__cell.unit-2-3--desktop > section > table > tbody > tr:nth-child(2) > td:nth-child(3)\")"
   ]
  },
  {
   "cell_type": "code",
   "execution_count": 13,
   "id": "f3b84f04",
   "metadata": {},
   "outputs": [
    {
     "data": {
      "text/plain": [
       "'\\nMILEY CYRUS\\n'"
      ]
     },
     "execution_count": 13,
     "metadata": {},
     "output_type": "execute_result"
    }
   ],
   "source": [
    "#soup.select(\"table\")[0].find_all(\"div\", {\"class\":[\"title\", \"artist\"]})\n",
    "soup.select(\"table\")[0].find_all(\"div\", class_=\"artist\")[0].get_text()"
   ]
  },
  {
   "cell_type": "code",
   "execution_count": 14,
   "id": "d9ec413f",
   "metadata": {},
   "outputs": [],
   "source": [
    "song_title = []\n",
    "artist_name = []\n",
    "\n",
    "num_iters = len(soup.select(\"table\")[0].find_all(\"div\", class_=\"title\"))\n",
    "slist = soup.select(\"table\")[0].find_all(\"div\", class_=\"title\")\n",
    "alist = soup.select(\"table\")[0].find_all(\"div\", class_=\"artist\")\n",
    "\n",
    "# iterate through the result set and retrive all the data\n",
    "for i in range(num_iters):\n",
    "    song_title.append(slist[i].get_text())\n",
    "    artist_name.append(alist[i].get_text())"
   ]
  },
  {
   "cell_type": "code",
   "execution_count": 15,
   "id": "fd13deee",
   "metadata": {},
   "outputs": [
    {
     "name": "stdout",
     "output_type": "stream",
     "text": [
      "(100, 2)\n"
     ]
    },
    {
     "data": {
      "text/html": [
       "<div>\n",
       "<style scoped>\n",
       "    .dataframe tbody tr th:only-of-type {\n",
       "        vertical-align: middle;\n",
       "    }\n",
       "\n",
       "    .dataframe tbody tr th {\n",
       "        vertical-align: top;\n",
       "    }\n",
       "\n",
       "    .dataframe thead th {\n",
       "        text-align: right;\n",
       "    }\n",
       "</style>\n",
       "<table border=\"1\" class=\"dataframe\">\n",
       "  <thead>\n",
       "    <tr style=\"text-align: right;\">\n",
       "      <th></th>\n",
       "      <th>title</th>\n",
       "      <th>artist</th>\n",
       "    </tr>\n",
       "  </thead>\n",
       "  <tbody>\n",
       "    <tr>\n",
       "      <th>0</th>\n",
       "      <td>\\nFLOWERS\\n</td>\n",
       "      <td>\\nMILEY CYRUS\\n</td>\n",
       "    </tr>\n",
       "    <tr>\n",
       "      <th>1</th>\n",
       "      <td>\\nMIRACLE\\n</td>\n",
       "      <td>\\nCALVIN HARRIS/ELLIE GOULDING\\n</td>\n",
       "    </tr>\n",
       "    <tr>\n",
       "      <th>2</th>\n",
       "      <td>\\nDIE FOR YOU\\n</td>\n",
       "      <td>\\nWEEKND\\n</td>\n",
       "    </tr>\n",
       "    <tr>\n",
       "      <th>3</th>\n",
       "      <td>\\nCALM DOWN\\n</td>\n",
       "      <td>\\nREMA\\n</td>\n",
       "    </tr>\n",
       "    <tr>\n",
       "      <th>4</th>\n",
       "      <td>\\nPEOPLE\\n</td>\n",
       "      <td>\\nLIBIANCA\\n</td>\n",
       "    </tr>\n",
       "  </tbody>\n",
       "</table>\n",
       "</div>"
      ],
      "text/plain": [
       "             title                            artist\n",
       "0      \\nFLOWERS\\n                   \\nMILEY CYRUS\\n\n",
       "1      \\nMIRACLE\\n  \\nCALVIN HARRIS/ELLIE GOULDING\\n\n",
       "2  \\nDIE FOR YOU\\n                        \\nWEEKND\\n\n",
       "3    \\nCALM DOWN\\n                          \\nREMA\\n\n",
       "4       \\nPEOPLE\\n                      \\nLIBIANCA\\n"
      ]
     },
     "execution_count": 15,
     "metadata": {},
     "output_type": "execute_result"
    }
   ],
   "source": [
    "top100_two = pd.DataFrame({\"title\":song_title, \"artist\":artist_name})\n",
    "print(top100_two.shape)\n",
    "top100_two.head()"
   ]
  },
  {
   "cell_type": "markdown",
   "id": "c86d292c",
   "metadata": {},
   "source": [
    "##  PopVortex Song Recommender"
   ]
  },
  {
   "cell_type": "code",
   "execution_count": 16,
   "id": "ba16ac15",
   "metadata": {},
   "outputs": [],
   "source": [
    "def songrecommender():\n",
    "    song = input(\"Enter song name: \")\n",
    "    artist = input(\"Enter artist name: \")\n",
    "    \n",
    "    for i in range(len(top100.values)):\n",
    "        if (song in top100.values[i][0]) & (artist in top100.values[i][1]):\n",
    "            recommendation = top100[(top100['title'] != song) & (top100['artist'] != artist)].iloc[random.randint(0,99)]\n",
    "            return \"We recommend: \" + recommendation.title + \" by \" + recommendation.artist \n",
    "        \n",
    "    for i in range(len(top100.values)): \n",
    "        if (song not in top100.values[i][0]) & (artist not in top100.values[i][1]):\n",
    "            return \"Sorry, no recommendations available\""
   ]
  },
  {
   "cell_type": "code",
   "execution_count": 17,
   "id": "249b6f3e",
   "metadata": {},
   "outputs": [
    {
     "name": "stdout",
     "output_type": "stream",
     "text": [
      "Enter song name: Flowers\n",
      "Enter artist name: Miley Cyrus\n"
     ]
    },
    {
     "data": {
      "text/plain": [
       "'We recommend: You Proof by Morgan Wallen'"
      ]
     },
     "execution_count": 17,
     "metadata": {},
     "output_type": "execute_result"
    }
   ],
   "source": [
    "songrecommender()"
   ]
  },
  {
   "cell_type": "markdown",
   "id": "79edcfe4",
   "metadata": {},
   "source": [
    "## Add spotify songs"
   ]
  },
  {
   "cell_type": "code",
   "execution_count": 18,
   "id": "495bc271",
   "metadata": {},
   "outputs": [],
   "source": [
    "spot_df = pd.read_csv(\"spotifytracks.csv\")"
   ]
  },
  {
   "cell_type": "code",
   "execution_count": 19,
   "id": "aa5bb956",
   "metadata": {},
   "outputs": [
    {
     "data": {
      "text/html": [
       "<div>\n",
       "<style scoped>\n",
       "    .dataframe tbody tr th:only-of-type {\n",
       "        vertical-align: middle;\n",
       "    }\n",
       "\n",
       "    .dataframe tbody tr th {\n",
       "        vertical-align: top;\n",
       "    }\n",
       "\n",
       "    .dataframe thead th {\n",
       "        text-align: right;\n",
       "    }\n",
       "</style>\n",
       "<table border=\"1\" class=\"dataframe\">\n",
       "  <thead>\n",
       "    <tr style=\"text-align: right;\">\n",
       "      <th></th>\n",
       "      <th>song</th>\n",
       "      <th>artist</th>\n",
       "      <th>uri</th>\n",
       "      <th>features_danceability</th>\n",
       "      <th>features_energy</th>\n",
       "      <th>features_key</th>\n",
       "      <th>features_loudness</th>\n",
       "      <th>features_mode</th>\n",
       "      <th>features_speechiness</th>\n",
       "      <th>features_acousticness</th>\n",
       "      <th>features_instrumentalness</th>\n",
       "      <th>features_liveness</th>\n",
       "      <th>features_valence</th>\n",
       "      <th>features_tempo</th>\n",
       "      <th>features_type</th>\n",
       "      <th>features_id</th>\n",
       "      <th>features_uri</th>\n",
       "      <th>features_track_href</th>\n",
       "      <th>features_analysis_url</th>\n",
       "      <th>features_duration_ms</th>\n",
       "      <th>features_time_signature</th>\n",
       "    </tr>\n",
       "  </thead>\n",
       "  <tbody>\n",
       "    <tr>\n",
       "      <th>0</th>\n",
       "      <td>Run Away</td>\n",
       "      <td>dvsn</td>\n",
       "      <td>spotify:track:0xD824qQkuonQNHe2dSeI4</td>\n",
       "      <td>0.764</td>\n",
       "      <td>0.330</td>\n",
       "      <td>2</td>\n",
       "      <td>-12.801</td>\n",
       "      <td>0</td>\n",
       "      <td>0.0427</td>\n",
       "      <td>0.1000</td>\n",
       "      <td>0.506000</td>\n",
       "      <td>0.1390</td>\n",
       "      <td>0.0686</td>\n",
       "      <td>119.978</td>\n",
       "      <td>audio_features</td>\n",
       "      <td>0xD824qQkuonQNHe2dSeI4</td>\n",
       "      <td>spotify:track:0xD824qQkuonQNHe2dSeI4</td>\n",
       "      <td>https://api.spotify.com/v1/tracks/0xD824qQkuon...</td>\n",
       "      <td>https://api.spotify.com/v1/audio-analysis/0xD8...</td>\n",
       "      <td>140293</td>\n",
       "      <td>4</td>\n",
       "    </tr>\n",
       "    <tr>\n",
       "      <th>1</th>\n",
       "      <td>L$D</td>\n",
       "      <td>A$AP Rocky</td>\n",
       "      <td>spotify:track:4S7YHmlWwfwArgd8LfSPud</td>\n",
       "      <td>0.598</td>\n",
       "      <td>0.252</td>\n",
       "      <td>2</td>\n",
       "      <td>-15.086</td>\n",
       "      <td>1</td>\n",
       "      <td>0.0644</td>\n",
       "      <td>0.1940</td>\n",
       "      <td>0.133000</td>\n",
       "      <td>0.0992</td>\n",
       "      <td>0.0352</td>\n",
       "      <td>120.064</td>\n",
       "      <td>audio_features</td>\n",
       "      <td>4S7YHmlWwfwArgd8LfSPud</td>\n",
       "      <td>spotify:track:4S7YHmlWwfwArgd8LfSPud</td>\n",
       "      <td>https://api.spotify.com/v1/tracks/4S7YHmlWwfwA...</td>\n",
       "      <td>https://api.spotify.com/v1/audio-analysis/4S7Y...</td>\n",
       "      <td>238307</td>\n",
       "      <td>4</td>\n",
       "    </tr>\n",
       "    <tr>\n",
       "      <th>2</th>\n",
       "      <td>Studio</td>\n",
       "      <td>ScHoolboy Q</td>\n",
       "      <td>spotify:track:29gsi1zZrZxdStACmTQB0Z</td>\n",
       "      <td>0.709</td>\n",
       "      <td>0.589</td>\n",
       "      <td>8</td>\n",
       "      <td>-7.776</td>\n",
       "      <td>0</td>\n",
       "      <td>0.0433</td>\n",
       "      <td>0.0507</td>\n",
       "      <td>0.000000</td>\n",
       "      <td>0.0585</td>\n",
       "      <td>0.5800</td>\n",
       "      <td>133.922</td>\n",
       "      <td>audio_features</td>\n",
       "      <td>29gsi1zZrZxdStACmTQB0Z</td>\n",
       "      <td>spotify:track:29gsi1zZrZxdStACmTQB0Z</td>\n",
       "      <td>https://api.spotify.com/v1/tracks/29gsi1zZrZxd...</td>\n",
       "      <td>https://api.spotify.com/v1/audio-analysis/29gs...</td>\n",
       "      <td>278067</td>\n",
       "      <td>3</td>\n",
       "    </tr>\n",
       "    <tr>\n",
       "      <th>3</th>\n",
       "      <td>OTW</td>\n",
       "      <td>Khalid</td>\n",
       "      <td>spotify:track:6Hgh47WXVKtXN5zGOu0hjI</td>\n",
       "      <td>0.652</td>\n",
       "      <td>0.678</td>\n",
       "      <td>2</td>\n",
       "      <td>-6.183</td>\n",
       "      <td>1</td>\n",
       "      <td>0.0541</td>\n",
       "      <td>0.1830</td>\n",
       "      <td>0.000033</td>\n",
       "      <td>0.1060</td>\n",
       "      <td>0.2800</td>\n",
       "      <td>72.989</td>\n",
       "      <td>audio_features</td>\n",
       "      <td>6Hgh47WXVKtXN5zGOu0hjI</td>\n",
       "      <td>spotify:track:6Hgh47WXVKtXN5zGOu0hjI</td>\n",
       "      <td>https://api.spotify.com/v1/tracks/6Hgh47WXVKtX...</td>\n",
       "      <td>https://api.spotify.com/v1/audio-analysis/6Hgh...</td>\n",
       "      <td>263014</td>\n",
       "      <td>4</td>\n",
       "    </tr>\n",
       "    <tr>\n",
       "      <th>4</th>\n",
       "      <td>Silence</td>\n",
       "      <td>Marshmello</td>\n",
       "      <td>spotify:track:7vGuf3Y35N4wmASOKLUVVU</td>\n",
       "      <td>0.520</td>\n",
       "      <td>0.761</td>\n",
       "      <td>4</td>\n",
       "      <td>-3.093</td>\n",
       "      <td>1</td>\n",
       "      <td>0.0853</td>\n",
       "      <td>0.2560</td>\n",
       "      <td>0.000005</td>\n",
       "      <td>0.1700</td>\n",
       "      <td>0.2860</td>\n",
       "      <td>141.971</td>\n",
       "      <td>audio_features</td>\n",
       "      <td>7vGuf3Y35N4wmASOKLUVVU</td>\n",
       "      <td>spotify:track:7vGuf3Y35N4wmASOKLUVVU</td>\n",
       "      <td>https://api.spotify.com/v1/tracks/7vGuf3Y35N4w...</td>\n",
       "      <td>https://api.spotify.com/v1/audio-analysis/7vGu...</td>\n",
       "      <td>180823</td>\n",
       "      <td>4</td>\n",
       "    </tr>\n",
       "  </tbody>\n",
       "</table>\n",
       "</div>"
      ],
      "text/plain": [
       "       song       artist  ... features_duration_ms  features_time_signature\n",
       "0  Run Away         dvsn  ...               140293                        4\n",
       "1       L$D   A$AP Rocky  ...               238307                        4\n",
       "2    Studio  ScHoolboy Q  ...               278067                        3\n",
       "3       OTW       Khalid  ...               263014                        4\n",
       "4   Silence   Marshmello  ...               180823                        4\n",
       "\n",
       "[5 rows x 21 columns]"
      ]
     },
     "execution_count": 19,
     "metadata": {},
     "output_type": "execute_result"
    }
   ],
   "source": [
    "spot_df.head()"
   ]
  },
  {
   "cell_type": "code",
   "execution_count": 20,
   "id": "e3cf48c0",
   "metadata": {},
   "outputs": [],
   "source": [
    "# drop duplicate column\n",
    "spot_df = spot_df.drop(['features_uri'], axis=1)  "
   ]
  },
  {
   "cell_type": "code",
   "execution_count": 21,
   "id": "318af736",
   "metadata": {},
   "outputs": [],
   "source": [
    "#rename columns\n",
    "spot_df.columns = spot_df.columns.str.replace(r\"features_\", \"\")"
   ]
  },
  {
   "cell_type": "code",
   "execution_count": 22,
   "id": "bfd3df8e",
   "metadata": {},
   "outputs": [],
   "source": [
    "#spot_df.head()"
   ]
  },
  {
   "cell_type": "code",
   "execution_count": 23,
   "id": "1f7d9457",
   "metadata": {},
   "outputs": [],
   "source": [
    "#drop categoricals for scaling\n",
    "justfeat = spot_df.drop(['song','artist','uri','type','id','uri','track_href','analysis_url'], axis=1)"
   ]
  },
  {
   "cell_type": "code",
   "execution_count": 24,
   "id": "4b763a1d",
   "metadata": {},
   "outputs": [
    {
     "data": {
      "text/html": [
       "<div>\n",
       "<style scoped>\n",
       "    .dataframe tbody tr th:only-of-type {\n",
       "        vertical-align: middle;\n",
       "    }\n",
       "\n",
       "    .dataframe tbody tr th {\n",
       "        vertical-align: top;\n",
       "    }\n",
       "\n",
       "    .dataframe thead th {\n",
       "        text-align: right;\n",
       "    }\n",
       "</style>\n",
       "<table border=\"1\" class=\"dataframe\">\n",
       "  <thead>\n",
       "    <tr style=\"text-align: right;\">\n",
       "      <th></th>\n",
       "      <th>danceability</th>\n",
       "      <th>energy</th>\n",
       "      <th>key</th>\n",
       "      <th>loudness</th>\n",
       "      <th>mode</th>\n",
       "      <th>speechiness</th>\n",
       "      <th>acousticness</th>\n",
       "      <th>instrumentalness</th>\n",
       "      <th>liveness</th>\n",
       "      <th>valence</th>\n",
       "      <th>tempo</th>\n",
       "      <th>duration_ms</th>\n",
       "      <th>time_signature</th>\n",
       "    </tr>\n",
       "  </thead>\n",
       "  <tbody>\n",
       "    <tr>\n",
       "      <th>0</th>\n",
       "      <td>0.764</td>\n",
       "      <td>0.330</td>\n",
       "      <td>2</td>\n",
       "      <td>-12.801</td>\n",
       "      <td>0</td>\n",
       "      <td>0.0427</td>\n",
       "      <td>0.1000</td>\n",
       "      <td>0.506000</td>\n",
       "      <td>0.1390</td>\n",
       "      <td>0.0686</td>\n",
       "      <td>119.978</td>\n",
       "      <td>140293</td>\n",
       "      <td>4</td>\n",
       "    </tr>\n",
       "    <tr>\n",
       "      <th>1</th>\n",
       "      <td>0.598</td>\n",
       "      <td>0.252</td>\n",
       "      <td>2</td>\n",
       "      <td>-15.086</td>\n",
       "      <td>1</td>\n",
       "      <td>0.0644</td>\n",
       "      <td>0.1940</td>\n",
       "      <td>0.133000</td>\n",
       "      <td>0.0992</td>\n",
       "      <td>0.0352</td>\n",
       "      <td>120.064</td>\n",
       "      <td>238307</td>\n",
       "      <td>4</td>\n",
       "    </tr>\n",
       "    <tr>\n",
       "      <th>2</th>\n",
       "      <td>0.709</td>\n",
       "      <td>0.589</td>\n",
       "      <td>8</td>\n",
       "      <td>-7.776</td>\n",
       "      <td>0</td>\n",
       "      <td>0.0433</td>\n",
       "      <td>0.0507</td>\n",
       "      <td>0.000000</td>\n",
       "      <td>0.0585</td>\n",
       "      <td>0.5800</td>\n",
       "      <td>133.922</td>\n",
       "      <td>278067</td>\n",
       "      <td>3</td>\n",
       "    </tr>\n",
       "    <tr>\n",
       "      <th>3</th>\n",
       "      <td>0.652</td>\n",
       "      <td>0.678</td>\n",
       "      <td>2</td>\n",
       "      <td>-6.183</td>\n",
       "      <td>1</td>\n",
       "      <td>0.0541</td>\n",
       "      <td>0.1830</td>\n",
       "      <td>0.000033</td>\n",
       "      <td>0.1060</td>\n",
       "      <td>0.2800</td>\n",
       "      <td>72.989</td>\n",
       "      <td>263014</td>\n",
       "      <td>4</td>\n",
       "    </tr>\n",
       "    <tr>\n",
       "      <th>4</th>\n",
       "      <td>0.520</td>\n",
       "      <td>0.761</td>\n",
       "      <td>4</td>\n",
       "      <td>-3.093</td>\n",
       "      <td>1</td>\n",
       "      <td>0.0853</td>\n",
       "      <td>0.2560</td>\n",
       "      <td>0.000005</td>\n",
       "      <td>0.1700</td>\n",
       "      <td>0.2860</td>\n",
       "      <td>141.971</td>\n",
       "      <td>180823</td>\n",
       "      <td>4</td>\n",
       "    </tr>\n",
       "  </tbody>\n",
       "</table>\n",
       "</div>"
      ],
      "text/plain": [
       "   danceability  energy  key  ...    tempo  duration_ms  time_signature\n",
       "0         0.764   0.330    2  ...  119.978       140293               4\n",
       "1         0.598   0.252    2  ...  120.064       238307               4\n",
       "2         0.709   0.589    8  ...  133.922       278067               3\n",
       "3         0.652   0.678    2  ...   72.989       263014               4\n",
       "4         0.520   0.761    4  ...  141.971       180823               4\n",
       "\n",
       "[5 rows x 13 columns]"
      ]
     },
     "execution_count": 24,
     "metadata": {},
     "output_type": "execute_result"
    }
   ],
   "source": [
    "justfeat.head()"
   ]
  },
  {
   "cell_type": "markdown",
   "id": "e5b36d36",
   "metadata": {},
   "source": [
    "#### Scale features"
   ]
  },
  {
   "cell_type": "code",
   "execution_count": 25,
   "id": "14a49da6",
   "metadata": {},
   "outputs": [],
   "source": [
    "from sklearn.preprocessing import StandardScaler\n",
    "\n",
    "transformer = StandardScaler().fit(justfeat)\n",
    "featscale = transformer.transform(justfeat)\n",
    "audfeat = pd.DataFrame(featscale,columns=justfeat.columns)"
   ]
  },
  {
   "cell_type": "code",
   "execution_count": 26,
   "id": "c86988e3",
   "metadata": {},
   "outputs": [
    {
     "data": {
      "text/html": [
       "<div>\n",
       "<style scoped>\n",
       "    .dataframe tbody tr th:only-of-type {\n",
       "        vertical-align: middle;\n",
       "    }\n",
       "\n",
       "    .dataframe tbody tr th {\n",
       "        vertical-align: top;\n",
       "    }\n",
       "\n",
       "    .dataframe thead th {\n",
       "        text-align: right;\n",
       "    }\n",
       "</style>\n",
       "<table border=\"1\" class=\"dataframe\">\n",
       "  <thead>\n",
       "    <tr style=\"text-align: right;\">\n",
       "      <th></th>\n",
       "      <th>danceability</th>\n",
       "      <th>energy</th>\n",
       "      <th>key</th>\n",
       "      <th>loudness</th>\n",
       "      <th>mode</th>\n",
       "      <th>speechiness</th>\n",
       "      <th>acousticness</th>\n",
       "      <th>instrumentalness</th>\n",
       "      <th>liveness</th>\n",
       "      <th>valence</th>\n",
       "      <th>tempo</th>\n",
       "      <th>duration_ms</th>\n",
       "      <th>time_signature</th>\n",
       "    </tr>\n",
       "  </thead>\n",
       "  <tbody>\n",
       "    <tr>\n",
       "      <th>0</th>\n",
       "      <td>0.562287</td>\n",
       "      <td>-1.870631</td>\n",
       "      <td>-0.918793</td>\n",
       "      <td>-2.247831</td>\n",
       "      <td>-0.969984</td>\n",
       "      <td>-0.992163</td>\n",
       "      <td>-0.635666</td>\n",
       "      <td>5.981899</td>\n",
       "      <td>-0.266094</td>\n",
       "      <td>-1.894764</td>\n",
       "      <td>0.041006</td>\n",
       "      <td>-1.316379</td>\n",
       "      <td>0.050052</td>\n",
       "    </tr>\n",
       "    <tr>\n",
       "      <th>1</th>\n",
       "      <td>-0.689334</td>\n",
       "      <td>-2.394570</td>\n",
       "      <td>-0.918793</td>\n",
       "      <td>-3.164146</td>\n",
       "      <td>1.030945</td>\n",
       "      <td>-0.829159</td>\n",
       "      <td>-0.224384</td>\n",
       "      <td>1.458972</td>\n",
       "      <td>-0.569256</td>\n",
       "      <td>-2.053031</td>\n",
       "      <td>0.043899</td>\n",
       "      <td>0.475985</td>\n",
       "      <td>0.050052</td>\n",
       "    </tr>\n",
       "    <tr>\n",
       "      <th>2</th>\n",
       "      <td>0.147593</td>\n",
       "      <td>-0.130886</td>\n",
       "      <td>0.760848</td>\n",
       "      <td>-0.232740</td>\n",
       "      <td>-0.969984</td>\n",
       "      <td>-0.987656</td>\n",
       "      <td>-0.851370</td>\n",
       "      <td>-0.153761</td>\n",
       "      <td>-0.879272</td>\n",
       "      <td>0.528527</td>\n",
       "      <td>0.510048</td>\n",
       "      <td>1.203069</td>\n",
       "      <td>-2.802340</td>\n",
       "    </tr>\n",
       "    <tr>\n",
       "      <th>3</th>\n",
       "      <td>-0.282180</td>\n",
       "      <td>0.466941</td>\n",
       "      <td>-0.918793</td>\n",
       "      <td>0.406074</td>\n",
       "      <td>1.030945</td>\n",
       "      <td>-0.906530</td>\n",
       "      <td>-0.272513</td>\n",
       "      <td>-0.153366</td>\n",
       "      <td>-0.517459</td>\n",
       "      <td>-0.893036</td>\n",
       "      <td>-1.539589</td>\n",
       "      <td>0.927798</td>\n",
       "      <td>0.050052</td>\n",
       "    </tr>\n",
       "    <tr>\n",
       "      <th>4</th>\n",
       "      <td>-1.277445</td>\n",
       "      <td>1.024465</td>\n",
       "      <td>-0.358913</td>\n",
       "      <td>1.645204</td>\n",
       "      <td>1.030945</td>\n",
       "      <td>-0.672165</td>\n",
       "      <td>0.046887</td>\n",
       "      <td>-0.153701</td>\n",
       "      <td>-0.029964</td>\n",
       "      <td>-0.864605</td>\n",
       "      <td>0.780796</td>\n",
       "      <td>-0.575214</td>\n",
       "      <td>0.050052</td>\n",
       "    </tr>\n",
       "  </tbody>\n",
       "</table>\n",
       "</div>"
      ],
      "text/plain": [
       "   danceability    energy       key  ...     tempo  duration_ms  time_signature\n",
       "0      0.562287 -1.870631 -0.918793  ...  0.041006    -1.316379        0.050052\n",
       "1     -0.689334 -2.394570 -0.918793  ...  0.043899     0.475985        0.050052\n",
       "2      0.147593 -0.130886  0.760848  ...  0.510048     1.203069       -2.802340\n",
       "3     -0.282180  0.466941 -0.918793  ... -1.539589     0.927798        0.050052\n",
       "4     -1.277445  1.024465 -0.358913  ...  0.780796    -0.575214        0.050052\n",
       "\n",
       "[5 rows x 13 columns]"
      ]
     },
     "execution_count": 26,
     "metadata": {},
     "output_type": "execute_result"
    }
   ],
   "source": [
    "audfeat.head()"
   ]
  },
  {
   "cell_type": "markdown",
   "id": "92b70061",
   "metadata": {},
   "source": [
    "#### Get optimal K"
   ]
  },
  {
   "cell_type": "code",
   "execution_count": 27,
   "id": "07d54c6b",
   "metadata": {},
   "outputs": [
    {
     "data": {
      "text/plain": [
       "Text(0.5, 1.0, 'Elbow Method showing the optimal k')"
      ]
     },
     "execution_count": 27,
     "metadata": {},
     "output_type": "execute_result"
    },
    {
     "data": {
      "image/png": "[encoded data removed]",
      "text/plain": [
       "<Figure size 1600x800 with 1 Axes>"
      ]
     },
     "metadata": {},
     "output_type": "display_data"
    }
   ],
   "source": [
    "import numpy as np\n",
    "from sklearn.cluster import KMeans\n",
    "K = range(2, 20)\n",
    "inertia = []\n",
    "\n",
    "for k in K:\n",
    "    kmeans = KMeans(n_clusters=k,\n",
    "                    random_state=1234)\n",
    "    kmeans.fit(audfeat)\n",
    "    inertia.append(kmeans.inertia_)\n",
    "\n",
    "import matplotlib.pyplot as plt\n",
    "%matplotlib inline\n",
    "\n",
    "plt.figure(figsize=(16,8))\n",
    "plt.plot(K, inertia, 'bx-')\n",
    "plt.xlabel('k')\n",
    "plt.ylabel('inertia')\n",
    "plt.xticks(np.arange(min(K), max(K)+1, 1.0))\n",
    "plt.title('Elbow Method showing the optimal k')"
   ]
  },
  {
   "cell_type": "code",
   "execution_count": 28,
   "id": "61bb80cb",
   "metadata": {},
   "outputs": [
    {
     "data": {
      "text/plain": [
       "Text(0.5, 1.0, 'Slhouette score showing the optimal k')"
      ]
     },
     "execution_count": 28,
     "metadata": {},
     "output_type": "execute_result"
    },
    {
     "data": {
      "image/png": "[encoded data removed]",
      "text/plain": [
       "<Figure size 1600x800 with 1 Axes>"
      ]
     },
     "metadata": {},
     "output_type": "display_data"
    }
   ],
   "source": [
    "from sklearn.metrics import silhouette_score\n",
    "K = range(2, 20)\n",
    "silhouette = []\n",
    "\n",
    "for k in K:\n",
    "    kmeans = KMeans(n_clusters=k,\n",
    "                    random_state=1234)\n",
    "    kmeans.fit(audfeat)\n",
    "    silhouette.append(silhouette_score(audfeat, kmeans.predict(audfeat)))\n",
    "\n",
    "\n",
    "plt.figure(figsize=(16,8))\n",
    "plt.plot(K, silhouette, 'bx-')\n",
    "plt.xlabel('k')\n",
    "plt.ylabel('silhouette score')\n",
    "plt.xticks(np.arange(min(K), max(K)+1, 1.0))\n",
    "plt.title('Slhouette score showing the optimal k')"
   ]
  },
  {
   "cell_type": "markdown",
   "id": "b1282742",
   "metadata": {},
   "source": [
    "#### Use optimal K to make clusters"
   ]
  },
  {
   "cell_type": "code",
   "execution_count": 29,
   "id": "626714e7",
   "metadata": {},
   "outputs": [
    {
     "data": {
      "text/plain": [
       "array([7, 6, 9, ..., 0, 4, 4], dtype=int32)"
      ]
     },
     "execution_count": 29,
     "metadata": {},
     "output_type": "execute_result"
    }
   ],
   "source": [
    "kmeans = cluster.KMeans(n_clusters=17)\n",
    "kmeans.fit(audfeat)\n",
    "pred = kmeans.predict(audfeat)\n",
    "pred"
   ]
  },
  {
   "cell_type": "code",
   "execution_count": 30,
   "id": "81a67f64",
   "metadata": {},
   "outputs": [
    {
     "data": {
      "text/plain": [
       "0     419\n",
       "1     284\n",
       "2     273\n",
       "3     486\n",
       "4     400\n",
       "5     384\n",
       "6     241\n",
       "7      74\n",
       "8     320\n",
       "9     136\n",
       "10     34\n",
       "11    234\n",
       "12    546\n",
       "13    125\n",
       "14    533\n",
       "15    416\n",
       "16    281\n",
       "dtype: int64"
      ]
     },
     "execution_count": 30,
     "metadata": {},
     "output_type": "execute_result"
    }
   ],
   "source": [
    "pd.Series(pred).value_counts().sort_index()"
   ]
  },
  {
   "cell_type": "markdown",
   "id": "600880e0",
   "metadata": {},
   "source": [
    "#### Add cluster numbers to dataframe"
   ]
  },
  {
   "cell_type": "code",
   "execution_count": 31,
   "id": "81f4e4b2",
   "metadata": {},
   "outputs": [],
   "source": [
    "spot_df['clusters'] = pred"
   ]
  },
  {
   "cell_type": "code",
   "execution_count": 32,
   "id": "69c586ba",
   "metadata": {},
   "outputs": [
    {
     "data": {
      "text/html": [
       "<div>\n",
       "<style scoped>\n",
       "    .dataframe tbody tr th:only-of-type {\n",
       "        vertical-align: middle;\n",
       "    }\n",
       "\n",
       "    .dataframe tbody tr th {\n",
       "        vertical-align: top;\n",
       "    }\n",
       "\n",
       "    .dataframe thead th {\n",
       "        text-align: right;\n",
       "    }\n",
       "</style>\n",
       "<table border=\"1\" class=\"dataframe\">\n",
       "  <thead>\n",
       "    <tr style=\"text-align: right;\">\n",
       "      <th></th>\n",
       "      <th>song</th>\n",
       "      <th>artist</th>\n",
       "      <th>uri</th>\n",
       "      <th>danceability</th>\n",
       "      <th>energy</th>\n",
       "      <th>key</th>\n",
       "      <th>loudness</th>\n",
       "      <th>mode</th>\n",
       "      <th>speechiness</th>\n",
       "      <th>acousticness</th>\n",
       "      <th>instrumentalness</th>\n",
       "      <th>liveness</th>\n",
       "      <th>valence</th>\n",
       "      <th>tempo</th>\n",
       "      <th>type</th>\n",
       "      <th>id</th>\n",
       "      <th>track_href</th>\n",
       "      <th>analysis_url</th>\n",
       "      <th>duration_ms</th>\n",
       "      <th>time_signature</th>\n",
       "      <th>clusters</th>\n",
       "    </tr>\n",
       "  </thead>\n",
       "  <tbody>\n",
       "    <tr>\n",
       "      <th>0</th>\n",
       "      <td>Run Away</td>\n",
       "      <td>dvsn</td>\n",
       "      <td>spotify:track:0xD824qQkuonQNHe2dSeI4</td>\n",
       "      <td>0.764</td>\n",
       "      <td>0.330</td>\n",
       "      <td>2</td>\n",
       "      <td>-12.801</td>\n",
       "      <td>0</td>\n",
       "      <td>0.0427</td>\n",
       "      <td>0.1000</td>\n",
       "      <td>0.506000</td>\n",
       "      <td>0.1390</td>\n",
       "      <td>0.0686</td>\n",
       "      <td>119.978</td>\n",
       "      <td>audio_features</td>\n",
       "      <td>0xD824qQkuonQNHe2dSeI4</td>\n",
       "      <td>https://api.spotify.com/v1/tracks/0xD824qQkuon...</td>\n",
       "      <td>https://api.spotify.com/v1/audio-analysis/0xD8...</td>\n",
       "      <td>140293</td>\n",
       "      <td>4</td>\n",
       "      <td>7</td>\n",
       "    </tr>\n",
       "    <tr>\n",
       "      <th>1</th>\n",
       "      <td>L$D</td>\n",
       "      <td>A$AP Rocky</td>\n",
       "      <td>spotify:track:4S7YHmlWwfwArgd8LfSPud</td>\n",
       "      <td>0.598</td>\n",
       "      <td>0.252</td>\n",
       "      <td>2</td>\n",
       "      <td>-15.086</td>\n",
       "      <td>1</td>\n",
       "      <td>0.0644</td>\n",
       "      <td>0.1940</td>\n",
       "      <td>0.133000</td>\n",
       "      <td>0.0992</td>\n",
       "      <td>0.0352</td>\n",
       "      <td>120.064</td>\n",
       "      <td>audio_features</td>\n",
       "      <td>4S7YHmlWwfwArgd8LfSPud</td>\n",
       "      <td>https://api.spotify.com/v1/tracks/4S7YHmlWwfwA...</td>\n",
       "      <td>https://api.spotify.com/v1/audio-analysis/4S7Y...</td>\n",
       "      <td>238307</td>\n",
       "      <td>4</td>\n",
       "      <td>6</td>\n",
       "    </tr>\n",
       "    <tr>\n",
       "      <th>2</th>\n",
       "      <td>Studio</td>\n",
       "      <td>ScHoolboy Q</td>\n",
       "      <td>spotify:track:29gsi1zZrZxdStACmTQB0Z</td>\n",
       "      <td>0.709</td>\n",
       "      <td>0.589</td>\n",
       "      <td>8</td>\n",
       "      <td>-7.776</td>\n",
       "      <td>0</td>\n",
       "      <td>0.0433</td>\n",
       "      <td>0.0507</td>\n",
       "      <td>0.000000</td>\n",
       "      <td>0.0585</td>\n",
       "      <td>0.5800</td>\n",
       "      <td>133.922</td>\n",
       "      <td>audio_features</td>\n",
       "      <td>29gsi1zZrZxdStACmTQB0Z</td>\n",
       "      <td>https://api.spotify.com/v1/tracks/29gsi1zZrZxd...</td>\n",
       "      <td>https://api.spotify.com/v1/audio-analysis/29gs...</td>\n",
       "      <td>278067</td>\n",
       "      <td>3</td>\n",
       "      <td>9</td>\n",
       "    </tr>\n",
       "    <tr>\n",
       "      <th>3</th>\n",
       "      <td>OTW</td>\n",
       "      <td>Khalid</td>\n",
       "      <td>spotify:track:6Hgh47WXVKtXN5zGOu0hjI</td>\n",
       "      <td>0.652</td>\n",
       "      <td>0.678</td>\n",
       "      <td>2</td>\n",
       "      <td>-6.183</td>\n",
       "      <td>1</td>\n",
       "      <td>0.0541</td>\n",
       "      <td>0.1830</td>\n",
       "      <td>0.000033</td>\n",
       "      <td>0.1060</td>\n",
       "      <td>0.2800</td>\n",
       "      <td>72.989</td>\n",
       "      <td>audio_features</td>\n",
       "      <td>6Hgh47WXVKtXN5zGOu0hjI</td>\n",
       "      <td>https://api.spotify.com/v1/tracks/6Hgh47WXVKtX...</td>\n",
       "      <td>https://api.spotify.com/v1/audio-analysis/6Hgh...</td>\n",
       "      <td>263014</td>\n",
       "      <td>4</td>\n",
       "      <td>3</td>\n",
       "    </tr>\n",
       "    <tr>\n",
       "      <th>4</th>\n",
       "      <td>Silence</td>\n",
       "      <td>Marshmello</td>\n",
       "      <td>spotify:track:7vGuf3Y35N4wmASOKLUVVU</td>\n",
       "      <td>0.520</td>\n",
       "      <td>0.761</td>\n",
       "      <td>4</td>\n",
       "      <td>-3.093</td>\n",
       "      <td>1</td>\n",
       "      <td>0.0853</td>\n",
       "      <td>0.2560</td>\n",
       "      <td>0.000005</td>\n",
       "      <td>0.1700</td>\n",
       "      <td>0.2860</td>\n",
       "      <td>141.971</td>\n",
       "      <td>audio_features</td>\n",
       "      <td>7vGuf3Y35N4wmASOKLUVVU</td>\n",
       "      <td>https://api.spotify.com/v1/tracks/7vGuf3Y35N4w...</td>\n",
       "      <td>https://api.spotify.com/v1/audio-analysis/7vGu...</td>\n",
       "      <td>180823</td>\n",
       "      <td>4</td>\n",
       "      <td>16</td>\n",
       "    </tr>\n",
       "  </tbody>\n",
       "</table>\n",
       "</div>"
      ],
      "text/plain": [
       "       song       artist  ... time_signature  clusters\n",
       "0  Run Away         dvsn  ...              4         7\n",
       "1       L$D   A$AP Rocky  ...              4         6\n",
       "2    Studio  ScHoolboy Q  ...              3         9\n",
       "3       OTW       Khalid  ...              4         3\n",
       "4   Silence   Marshmello  ...              4        16\n",
       "\n",
       "[5 rows x 21 columns]"
      ]
     },
     "execution_count": 32,
     "metadata": {},
     "output_type": "execute_result"
    }
   ],
   "source": [
    "spot_df.head()"
   ]
  },
  {
   "cell_type": "markdown",
   "id": "9071d89b",
   "metadata": {},
   "source": [
    "## Song Recommeder for GNOD"
   ]
  },
  {
   "cell_type": "code",
   "execution_count": 33,
   "id": "3df3df2c",
   "metadata": {},
   "outputs": [],
   "source": [
    "def songrecommender():\n",
    "    song = input(\"Enter song name: \")\n",
    "    artist = input(\"Enter artist name: \")\n",
    "    \n",
    "    #songs in top100 playlist\n",
    "    for i in range(len(top100.values)):\n",
    "        if (song in top100.values[i][0]) & (artist in top100.values[i][1]):\n",
    "            recommendation = top100[(top100['title'] != song) & (top100['artist'] != artist)].iloc[random.randint(0,99)]\n",
    "            return \"We recommend: \" + recommendation.title + \" by \" + recommendation.artist \n",
    "    \n",
    "    #songs in spotify playlist\n",
    "    for i in range(len(spot_df.values)): \n",
    "            if (song in spot_df.values[i][0]) & (artist in spot_df.values[i][1]):\n",
    "                clusternum = spot_df.values[i][20]\n",
    "                cluster = spot_df[spot_df['clusters'] == clusternum]\n",
    "                recommendation = cluster[(cluster['song'] != song) & (cluster['artist'] != artist)].iloc[random.randint(0,len(cluster))]\n",
    "                return \"We recommend: \" + recommendation.song + \" by \" + recommendation.artist \n",
    "    \n",
    "    #songs not in any playlist\n",
    "    for i in range(len(spot_df.values)): \n",
    "            if (song not in spot_df.values[i][0]) & (artist not in spot_df.values[i][1]):\n",
    "                track_id = sp.search(q='artist:' + artist + ' track:' + song, type='track')\n",
    "                songuri = track_id[\"tracks\"][\"items\"][0][\"uri\"] \n",
    "                sp.audio_features(songuri)\n",
    "                \n",
    "                track_id = sp.search(q='artist:' + artist + ' track:' + song, type='track')\n",
    "                uritest = track_id[\"tracks\"][\"items\"][0][\"uri\"]\n",
    "                get_feat = sp.audio_features(uritest)\n",
    "                featdf = pd.DataFrame(get_feat)\n",
    "                featdf = featdf.drop(['type','id','uri','track_href','analysis_url'], axis=1)\n",
    "                featnorm = transformer.transform(featdf)\n",
    "                featnorm = pd.DataFrame(featnorm,columns=featdf.columns)\n",
    "                clustnum = kmeans.predict(featnorm)[0]\n",
    "                \n",
    "                cluster = spot_df[spot_df['clusters'] == clustnum]\n",
    "                recommendation = cluster[(cluster['song'] != song) & (cluster['artist'] != artist)].iloc[random.randint(0,len(cluster))]\n",
    "                return \"We recommend: \" + recommendation.song + \" by \" + recommendation.artist \n",
    "                        "
   ]
  },
  {
   "cell_type": "markdown",
   "id": "cf4d785c",
   "metadata": {},
   "source": [
    "#### Test with a song from the Hot100 playlist"
   ]
  },
  {
   "cell_type": "code",
   "execution_count": 37,
   "id": "4ea36b50",
   "metadata": {},
   "outputs": [
    {
     "name": "stdout",
     "output_type": "stream",
     "text": [
      "Enter song name: Fast Car\n",
      "Enter artist name: Luke Combs\n"
     ]
    },
    {
     "data": {
      "text/plain": [
       "'We recommend: Eyes Closed by Ed Sheeran'"
      ]
     },
     "execution_count": 37,
     "metadata": {},
     "output_type": "execute_result"
    }
   ],
   "source": [
    "songrecommender()"
   ]
  },
  {
   "cell_type": "markdown",
   "id": "69cc1163",
   "metadata": {},
   "source": [
    "#### Test with a song from spotify playlist"
   ]
  },
  {
   "cell_type": "code",
   "execution_count": 38,
   "id": "fa82f311",
   "metadata": {},
   "outputs": [
    {
     "name": "stdout",
     "output_type": "stream",
     "text": [
      "Enter song name: Silence\n",
      "Enter artist name: Marshmello\n"
     ]
    },
    {
     "data": {
      "text/plain": [
       "'We recommend: Candy Paint by Post Malone'"
      ]
     },
     "execution_count": 38,
     "metadata": {},
     "output_type": "execute_result"
    }
   ],
   "source": [
    "songrecommender()"
   ]
  },
  {
   "cell_type": "markdown",
   "id": "58987a0e",
   "metadata": {},
   "source": [
    "#### Test with a random song not in any of the playlists"
   ]
  },
  {
   "cell_type": "code",
   "execution_count": 39,
   "id": "9ad8755b",
   "metadata": {},
   "outputs": [
    {
     "name": "stdout",
     "output_type": "stream",
     "text": [
      "Enter song name: High\n",
      "Enter artist name: Adekunle Gold\n"
     ]
    },
    {
     "data": {
      "text/plain": [
       "'We recommend: Rock That Body by Black Eyed Peas'"
      ]
     },
     "execution_count": 39,
     "metadata": {},
     "output_type": "execute_result"
    }
   ],
   "source": [
    "songrecommender()"
   ]
  },
  {
   "cell_type": "code",
   "execution_count": null,
   "id": "d5114245",
   "metadata": {},
   "outputs": [],
   "source": []
  }
 ],
 "metadata": {
  "kernelspec": {
   "display_name": "Python 3 (ipykernel)",
   "language": "python",
   "name": "python3"
  },
  "language_info": {
   "codemirror_mode": {
    "name": "ipython",
    "version": 3
   },
   "file_extension": ".py",
   "mimetype": "text/x-python",
   "name": "python",
   "nbconvert_exporter": "python",
   "pygments_lexer": "ipython3",
   "version": "3.9.13"
  }
 },
 "nbformat": 4,
 "nbformat_minor": 5
}
